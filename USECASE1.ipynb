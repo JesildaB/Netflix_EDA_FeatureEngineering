{
 "cells": [
  {
   "cell_type": "markdown",
   "id": "44ed62de",
   "metadata": {},
   "source": [
    "## 📊Netflix Dataset EDA and Feature Engineering Project\n",
    "\n",
    "This script performs comprehensive Exploratory Data Analysis (EDA) and Feature Engineering \n",
    "on the Netflix titles dataset to prepare it for machine learning models.\n",
    "\n",
    "\n"
   ]
  },
  {
   "cell_type": "markdown",
   "id": "8c2bfd9a",
   "metadata": {},
   "source": [
    "## 🎯 Business Problem Statement\n",
    "\n",
    "In the competitive OTT streaming industry, customer retention is critical to sustained growth and profitability. Netflix, while popular, faces increasing churn due to content fatigue, irrelevant recommendations, and mistimed releases. This project aims to analyze existing show/movie data to uncover actionable insights that can enhance content recommendation, optimize release strategies, and identify popular genres — all to maximize customer retention.\n",
    "\n",
    "\n"
   ]
  },
  {
   "cell_type": "markdown",
   "id": "52f4625d",
   "metadata": {},
   "source": [
    "## 🔍 Pain Points in the Current System\n",
    "\n",
    "Lack of personalized recommendations: Shows/movies aren’t always matched to user preferences.\n",
    "\n",
    "Suboptimal release timing: No analysis of when content performs best.\n",
    "\n",
    "Genre fatigue or repetition: Over-representation of certain genres may cause user disengagement.\n"
   ]
  },
  {
   "cell_type": "markdown",
   "id": "773fae40",
   "metadata": {},
   "source": [
    "## ✅ How This Project Addresses It:\n",
    "\n",
    "Genre analysis: Identifies top-performing genres based on time and festivities.\n",
    "\n",
    "Release pattern trends: Examines when new content is added to identify optimal release windows.\n",
    "\n",
    "Content feature enrichment: Helps build features (like content_age, genre_frequency, etc.) for better recommendation logic."
   ]
  },
  {
   "cell_type": "markdown",
   "id": "6f5e999f",
   "metadata": {},
   "source": [
    "\n",
    "## 📊Why I chose this dataset:\n",
    "\n",
    "I selected the Netflix Movies and TV Shows 2025 dataset because it provides a rich, real-world collection of entertainment data that reflects current global trends in streaming content. This dataset includes key features such as title, genre, director, cast, release year, country, and user ratings, which offer diverse opportunities for exploratory data analysis.\n",
    "\n",
    "Netflix being a leading streaming platform with a massive global user base ensures that the patterns extracted from this data are highly relevant and applicable to modern digital media consumption. This dataset also presents practical challenges such as handling missing data and  feature engineering.\n",
    "\n",
    "Project Flow:\n",
    "1. Data Loading and Initial Exploration\n",
    "2. Exploratory Data Analysis (EDA) \n",
    "3. Missing Value Treatment\n",
    "4. Outlier Detection and Removal\n",
    "5. Feature Encoding\n",
    "6. Feature Engineering\n",
    "\n",
    "\n",
    "Dataset: Netflix Titles Dataset (2015)"
   ]
  },
  {
   "cell_type": "markdown",
   "id": "2fd559b9",
   "metadata": {},
   "source": [
    "IMPORT NECESSARY LIBRARIES"
   ]
  },
  {
   "cell_type": "code",
   "execution_count": 1,
   "id": "6a62efad",
   "metadata": {},
   "outputs": [],
   "source": [
    "import numpy as np          # For numerical operations and array handling\n",
    "import pandas as pd         # For data manipulation and analysis\n",
    "import seaborn as sns       # For statistical data visualization\n",
    "import matplotlib.pyplot as plt  # For creating plots and charts"
   ]
  },
  {
   "cell_type": "markdown",
   "id": "d50de256",
   "metadata": {},
   "source": [
    "Load the Netflix dataset\n",
    "\n",
    "First 5 rows of the dataset:\n"
   ]
  },
  {
   "cell_type": "code",
   "execution_count": 2,
   "id": "1d639b20",
   "metadata": {},
   "outputs": [
    {
     "data": {
      "text/html": [
       "<div>\n",
       "<style scoped>\n",
       "    .dataframe tbody tr th:only-of-type {\n",
       "        vertical-align: middle;\n",
       "    }\n",
       "\n",
       "    .dataframe tbody tr th {\n",
       "        vertical-align: top;\n",
       "    }\n",
       "\n",
       "    .dataframe thead th {\n",
       "        text-align: right;\n",
       "    }\n",
       "</style>\n",
       "<table border=\"1\" class=\"dataframe\">\n",
       "  <thead>\n",
       "    <tr style=\"text-align: right;\">\n",
       "      <th></th>\n",
       "      <th>show_id</th>\n",
       "      <th>type</th>\n",
       "      <th>title</th>\n",
       "      <th>director</th>\n",
       "      <th>cast</th>\n",
       "      <th>country</th>\n",
       "      <th>date_added</th>\n",
       "      <th>release_year</th>\n",
       "      <th>rating</th>\n",
       "      <th>duration</th>\n",
       "      <th>listed_in</th>\n",
       "      <th>description</th>\n",
       "    </tr>\n",
       "  </thead>\n",
       "  <tbody>\n",
       "    <tr>\n",
       "      <th>0</th>\n",
       "      <td>s1</td>\n",
       "      <td>Movie</td>\n",
       "      <td>Dick Johnson Is Dead</td>\n",
       "      <td>Kirsten Johnson</td>\n",
       "      <td>NaN</td>\n",
       "      <td>United States</td>\n",
       "      <td>September 25, 2021</td>\n",
       "      <td>2020</td>\n",
       "      <td>PG-13</td>\n",
       "      <td>90 min</td>\n",
       "      <td>Documentaries</td>\n",
       "      <td>As her father nears the end of his life, filmm...</td>\n",
       "    </tr>\n",
       "    <tr>\n",
       "      <th>1</th>\n",
       "      <td>s2</td>\n",
       "      <td>TV Show</td>\n",
       "      <td>Blood &amp; Water</td>\n",
       "      <td>NaN</td>\n",
       "      <td>Ama Qamata, Khosi Ngema, Gail Mabalane, Thaban...</td>\n",
       "      <td>South Africa</td>\n",
       "      <td>September 24, 2021</td>\n",
       "      <td>2021</td>\n",
       "      <td>TV-MA</td>\n",
       "      <td>2 Seasons</td>\n",
       "      <td>International TV Shows, TV Dramas, TV Mysteries</td>\n",
       "      <td>After crossing paths at a party, a Cape Town t...</td>\n",
       "    </tr>\n",
       "    <tr>\n",
       "      <th>2</th>\n",
       "      <td>s3</td>\n",
       "      <td>TV Show</td>\n",
       "      <td>Ganglands</td>\n",
       "      <td>Julien Leclercq</td>\n",
       "      <td>Sami Bouajila, Tracy Gotoas, Samuel Jouy, Nabi...</td>\n",
       "      <td>NaN</td>\n",
       "      <td>September 24, 2021</td>\n",
       "      <td>2021</td>\n",
       "      <td>TV-MA</td>\n",
       "      <td>1 Season</td>\n",
       "      <td>Crime TV Shows, International TV Shows, TV Act...</td>\n",
       "      <td>To protect his family from a powerful drug lor...</td>\n",
       "    </tr>\n",
       "    <tr>\n",
       "      <th>3</th>\n",
       "      <td>s4</td>\n",
       "      <td>TV Show</td>\n",
       "      <td>Jailbirds New Orleans</td>\n",
       "      <td>NaN</td>\n",
       "      <td>NaN</td>\n",
       "      <td>NaN</td>\n",
       "      <td>September 24, 2021</td>\n",
       "      <td>2021</td>\n",
       "      <td>TV-MA</td>\n",
       "      <td>1 Season</td>\n",
       "      <td>Docuseries, Reality TV</td>\n",
       "      <td>Feuds, flirtations and toilet talk go down amo...</td>\n",
       "    </tr>\n",
       "    <tr>\n",
       "      <th>4</th>\n",
       "      <td>s5</td>\n",
       "      <td>TV Show</td>\n",
       "      <td>Kota Factory</td>\n",
       "      <td>NaN</td>\n",
       "      <td>Mayur More, Jitendra Kumar, Ranjan Raj, Alam K...</td>\n",
       "      <td>India</td>\n",
       "      <td>September 24, 2021</td>\n",
       "      <td>2021</td>\n",
       "      <td>TV-MA</td>\n",
       "      <td>2 Seasons</td>\n",
       "      <td>International TV Shows, Romantic TV Shows, TV ...</td>\n",
       "      <td>In a city of coaching centers known to train I...</td>\n",
       "    </tr>\n",
       "  </tbody>\n",
       "</table>\n",
       "</div>"
      ],
      "text/plain": [
       "  show_id     type                  title         director  \\\n",
       "0      s1    Movie   Dick Johnson Is Dead  Kirsten Johnson   \n",
       "1      s2  TV Show          Blood & Water              NaN   \n",
       "2      s3  TV Show              Ganglands  Julien Leclercq   \n",
       "3      s4  TV Show  Jailbirds New Orleans              NaN   \n",
       "4      s5  TV Show           Kota Factory              NaN   \n",
       "\n",
       "                                                cast        country  \\\n",
       "0                                                NaN  United States   \n",
       "1  Ama Qamata, Khosi Ngema, Gail Mabalane, Thaban...   South Africa   \n",
       "2  Sami Bouajila, Tracy Gotoas, Samuel Jouy, Nabi...            NaN   \n",
       "3                                                NaN            NaN   \n",
       "4  Mayur More, Jitendra Kumar, Ranjan Raj, Alam K...          India   \n",
       "\n",
       "           date_added  release_year rating   duration  \\\n",
       "0  September 25, 2021          2020  PG-13     90 min   \n",
       "1  September 24, 2021          2021  TV-MA  2 Seasons   \n",
       "2  September 24, 2021          2021  TV-MA   1 Season   \n",
       "3  September 24, 2021          2021  TV-MA   1 Season   \n",
       "4  September 24, 2021          2021  TV-MA  2 Seasons   \n",
       "\n",
       "                                           listed_in  \\\n",
       "0                                      Documentaries   \n",
       "1    International TV Shows, TV Dramas, TV Mysteries   \n",
       "2  Crime TV Shows, International TV Shows, TV Act...   \n",
       "3                             Docuseries, Reality TV   \n",
       "4  International TV Shows, Romantic TV Shows, TV ...   \n",
       "\n",
       "                                         description  \n",
       "0  As her father nears the end of his life, filmm...  \n",
       "1  After crossing paths at a party, a Cape Town t...  \n",
       "2  To protect his family from a powerful drug lor...  \n",
       "3  Feuds, flirtations and toilet talk go down amo...  \n",
       "4  In a city of coaching centers known to train I...  "
      ]
     },
     "execution_count": 2,
     "metadata": {},
     "output_type": "execute_result"
    }
   ],
   "source": [
    "netflix_data=pd.read_csv(r'C:\\ENDURE WORK\\EDA AND FEATURE ENGINEERING\\USECASE 1\\DATA\\netflix_titles.csv')\n",
    "netflix_data.head()"
   ]
  },
  {
   "cell_type": "markdown",
   "id": "53ecfd2f",
   "metadata": {},
   "source": [
    "Last 5 rows of the dataset"
   ]
  },
  {
   "cell_type": "code",
   "execution_count": 3,
   "id": "1b1a0d75",
   "metadata": {},
   "outputs": [
    {
     "data": {
      "text/html": [
       "<div>\n",
       "<style scoped>\n",
       "    .dataframe tbody tr th:only-of-type {\n",
       "        vertical-align: middle;\n",
       "    }\n",
       "\n",
       "    .dataframe tbody tr th {\n",
       "        vertical-align: top;\n",
       "    }\n",
       "\n",
       "    .dataframe thead th {\n",
       "        text-align: right;\n",
       "    }\n",
       "</style>\n",
       "<table border=\"1\" class=\"dataframe\">\n",
       "  <thead>\n",
       "    <tr style=\"text-align: right;\">\n",
       "      <th></th>\n",
       "      <th>show_id</th>\n",
       "      <th>type</th>\n",
       "      <th>title</th>\n",
       "      <th>director</th>\n",
       "      <th>cast</th>\n",
       "      <th>country</th>\n",
       "      <th>date_added</th>\n",
       "      <th>release_year</th>\n",
       "      <th>rating</th>\n",
       "      <th>duration</th>\n",
       "      <th>listed_in</th>\n",
       "      <th>description</th>\n",
       "    </tr>\n",
       "  </thead>\n",
       "  <tbody>\n",
       "    <tr>\n",
       "      <th>8802</th>\n",
       "      <td>s8803</td>\n",
       "      <td>Movie</td>\n",
       "      <td>Zodiac</td>\n",
       "      <td>David Fincher</td>\n",
       "      <td>Mark Ruffalo, Jake Gyllenhaal, Robert Downey J...</td>\n",
       "      <td>United States</td>\n",
       "      <td>November 20, 2019</td>\n",
       "      <td>2007</td>\n",
       "      <td>R</td>\n",
       "      <td>158 min</td>\n",
       "      <td>Cult Movies, Dramas, Thrillers</td>\n",
       "      <td>A political cartoonist, a crime reporter and a...</td>\n",
       "    </tr>\n",
       "    <tr>\n",
       "      <th>8803</th>\n",
       "      <td>s8804</td>\n",
       "      <td>TV Show</td>\n",
       "      <td>Zombie Dumb</td>\n",
       "      <td>NaN</td>\n",
       "      <td>NaN</td>\n",
       "      <td>NaN</td>\n",
       "      <td>July 1, 2019</td>\n",
       "      <td>2018</td>\n",
       "      <td>TV-Y7</td>\n",
       "      <td>2 Seasons</td>\n",
       "      <td>Kids' TV, Korean TV Shows, TV Comedies</td>\n",
       "      <td>While living alone in a spooky town, a young g...</td>\n",
       "    </tr>\n",
       "    <tr>\n",
       "      <th>8804</th>\n",
       "      <td>s8805</td>\n",
       "      <td>Movie</td>\n",
       "      <td>Zombieland</td>\n",
       "      <td>Ruben Fleischer</td>\n",
       "      <td>Jesse Eisenberg, Woody Harrelson, Emma Stone, ...</td>\n",
       "      <td>United States</td>\n",
       "      <td>November 1, 2019</td>\n",
       "      <td>2009</td>\n",
       "      <td>R</td>\n",
       "      <td>88 min</td>\n",
       "      <td>Comedies, Horror Movies</td>\n",
       "      <td>Looking to survive in a world taken over by zo...</td>\n",
       "    </tr>\n",
       "    <tr>\n",
       "      <th>8805</th>\n",
       "      <td>s8806</td>\n",
       "      <td>Movie</td>\n",
       "      <td>Zoom</td>\n",
       "      <td>Peter Hewitt</td>\n",
       "      <td>Tim Allen, Courteney Cox, Chevy Chase, Kate Ma...</td>\n",
       "      <td>United States</td>\n",
       "      <td>January 11, 2020</td>\n",
       "      <td>2006</td>\n",
       "      <td>PG</td>\n",
       "      <td>88 min</td>\n",
       "      <td>Children &amp; Family Movies, Comedies</td>\n",
       "      <td>Dragged from civilian life, a former superhero...</td>\n",
       "    </tr>\n",
       "    <tr>\n",
       "      <th>8806</th>\n",
       "      <td>s8807</td>\n",
       "      <td>Movie</td>\n",
       "      <td>Zubaan</td>\n",
       "      <td>Mozez Singh</td>\n",
       "      <td>Vicky Kaushal, Sarah-Jane Dias, Raaghav Chanan...</td>\n",
       "      <td>India</td>\n",
       "      <td>March 2, 2019</td>\n",
       "      <td>2015</td>\n",
       "      <td>TV-14</td>\n",
       "      <td>111 min</td>\n",
       "      <td>Dramas, International Movies, Music &amp; Musicals</td>\n",
       "      <td>A scrappy but poor boy worms his way into a ty...</td>\n",
       "    </tr>\n",
       "  </tbody>\n",
       "</table>\n",
       "</div>"
      ],
      "text/plain": [
       "     show_id     type        title         director  \\\n",
       "8802   s8803    Movie       Zodiac    David Fincher   \n",
       "8803   s8804  TV Show  Zombie Dumb              NaN   \n",
       "8804   s8805    Movie   Zombieland  Ruben Fleischer   \n",
       "8805   s8806    Movie         Zoom     Peter Hewitt   \n",
       "8806   s8807    Movie       Zubaan      Mozez Singh   \n",
       "\n",
       "                                                   cast        country  \\\n",
       "8802  Mark Ruffalo, Jake Gyllenhaal, Robert Downey J...  United States   \n",
       "8803                                                NaN            NaN   \n",
       "8804  Jesse Eisenberg, Woody Harrelson, Emma Stone, ...  United States   \n",
       "8805  Tim Allen, Courteney Cox, Chevy Chase, Kate Ma...  United States   \n",
       "8806  Vicky Kaushal, Sarah-Jane Dias, Raaghav Chanan...          India   \n",
       "\n",
       "             date_added  release_year rating   duration  \\\n",
       "8802  November 20, 2019          2007      R    158 min   \n",
       "8803       July 1, 2019          2018  TV-Y7  2 Seasons   \n",
       "8804   November 1, 2019          2009      R     88 min   \n",
       "8805   January 11, 2020          2006     PG     88 min   \n",
       "8806      March 2, 2019          2015  TV-14    111 min   \n",
       "\n",
       "                                           listed_in  \\\n",
       "8802                  Cult Movies, Dramas, Thrillers   \n",
       "8803          Kids' TV, Korean TV Shows, TV Comedies   \n",
       "8804                         Comedies, Horror Movies   \n",
       "8805              Children & Family Movies, Comedies   \n",
       "8806  Dramas, International Movies, Music & Musicals   \n",
       "\n",
       "                                            description  \n",
       "8802  A political cartoonist, a crime reporter and a...  \n",
       "8803  While living alone in a spooky town, a young g...  \n",
       "8804  Looking to survive in a world taken over by zo...  \n",
       "8805  Dragged from civilian life, a former superhero...  \n",
       "8806  A scrappy but poor boy worms his way into a ty...  "
      ]
     },
     "execution_count": 3,
     "metadata": {},
     "output_type": "execute_result"
    }
   ],
   "source": [
    "netflix_data.tail()"
   ]
  },
  {
   "cell_type": "markdown",
   "id": "5a3afa5b",
   "metadata": {},
   "source": [
    "INITIAL DATA EXPLORATION"
   ]
  },
  {
   "cell_type": "code",
   "execution_count": 4,
   "id": "c99b3102",
   "metadata": {},
   "outputs": [
    {
     "name": "stdout",
     "output_type": "stream",
     "text": [
      "The total size of the dataset is 105684\n",
      "The total number of rows in the dataset is 8807\n",
      "The total number of columns in the dataset is 12\n",
      "The number of  dimensions of the  dataset is 2\n"
     ]
    }
   ],
   "source": [
    "#Checking for total size ,shape and dimensions\n",
    "total_size=netflix_data.size\n",
    "print(f'The total size of the dataset is {total_size}')\n",
    "\n",
    "total_shape=netflix_data.shape\n",
    "print(f'The total number of rows in the dataset is {total_shape[0]}')\n",
    "print(f'The total number of columns in the dataset is {total_shape[1]}')\n",
    "\n",
    "\n",
    "dimensions=netflix_data.ndim\n",
    "print(f'The number of  dimensions of the  dataset is {dimensions}')"
   ]
  },
  {
   "cell_type": "markdown",
   "id": "6930003a",
   "metadata": {},
   "source": [
    "DATA TYPES AND MISSING VALUES OVERVIEW"
   ]
  },
  {
   "cell_type": "code",
   "execution_count": 5,
   "id": "1164ac21",
   "metadata": {},
   "outputs": [
    {
     "name": "stdout",
     "output_type": "stream",
     "text": [
      "<class 'pandas.core.frame.DataFrame'>\n",
      "RangeIndex: 8807 entries, 0 to 8806\n",
      "Data columns (total 12 columns):\n",
      " #   Column        Non-Null Count  Dtype \n",
      "---  ------        --------------  ----- \n",
      " 0   show_id       8807 non-null   object\n",
      " 1   type          8807 non-null   object\n",
      " 2   title         8807 non-null   object\n",
      " 3   director      6173 non-null   object\n",
      " 4   cast          7982 non-null   object\n",
      " 5   country       7976 non-null   object\n",
      " 6   date_added    8797 non-null   object\n",
      " 7   release_year  8807 non-null   int64 \n",
      " 8   rating        8803 non-null   object\n",
      " 9   duration      8804 non-null   object\n",
      " 10  listed_in     8807 non-null   object\n",
      " 11  description   8807 non-null   object\n",
      "dtypes: int64(1), object(11)\n",
      "memory usage: 825.8+ KB\n"
     ]
    }
   ],
   "source": [
    "netflix_data.info()"
   ]
  },
  {
   "cell_type": "markdown",
   "id": "eedd6949",
   "metadata": {},
   "source": [
    "Key Observations from data info:\n",
    "\\\n",
    "From this we find that few columns have missing values and the datatypes of 11 columns are objects whereas 1 column has integer datatype"
   ]
  },
  {
   "cell_type": "markdown",
   "id": "e8b11285",
   "metadata": {},
   "source": [
    "UNIQUE VALUES ANALYSIS "
   ]
  },
  {
   "cell_type": "code",
   "execution_count": 6,
   "id": "c9e92d14",
   "metadata": {},
   "outputs": [
    {
     "name": "stdout",
     "output_type": "stream",
     "text": [
      "show_id has 8807 unique values\n",
      "type has 2 unique values\n",
      "title has 8807 unique values\n",
      "director has 4528 unique values\n",
      "cast has 7692 unique values\n",
      "country has 748 unique values\n",
      "date_added has 1767 unique values\n",
      "release_year has 74 unique values\n",
      "rating has 17 unique values\n",
      "duration has 220 unique values\n",
      "listed_in has 514 unique values\n",
      "description has 8775 unique values\n"
     ]
    }
   ],
   "source": [
    "\n",
    "for col in netflix_data.columns:\n",
    "    uni=netflix_data[col].nunique()\n",
    "    print(f'{col} has {uni} unique values')"
   ]
  },
  {
   "cell_type": "markdown",
   "id": "02ffbdca",
   "metadata": {},
   "source": [
    "MISSING VALUES ANALYSIS"
   ]
  },
  {
   "cell_type": "code",
   "execution_count": 7,
   "id": "f6bc9c4c",
   "metadata": {},
   "outputs": [
    {
     "data": {
      "text/plain": [
       "show_id            0\n",
       "type               0\n",
       "title              0\n",
       "director        2634\n",
       "cast             825\n",
       "country          831\n",
       "date_added        10\n",
       "release_year       0\n",
       "rating             4\n",
       "duration           3\n",
       "listed_in          0\n",
       "description        0\n",
       "dtype: int64"
      ]
     },
     "execution_count": 7,
     "metadata": {},
     "output_type": "execute_result"
    }
   ],
   "source": [
    "#Number of missing values per column\n",
    "netflix_data.isnull().sum()"
   ]
  },
  {
   "cell_type": "markdown",
   "id": "45d71e26",
   "metadata": {},
   "source": [
    "We found 6 columns having missing values and below are the names of the columns"
   ]
  },
  {
   "cell_type": "code",
   "execution_count": 8,
   "id": "438ab2b3",
   "metadata": {},
   "outputs": [
    {
     "data": {
      "text/plain": [
       "Index(['director', 'cast', 'country', 'date_added', 'rating', 'duration'], dtype='object')"
      ]
     },
     "execution_count": 8,
     "metadata": {},
     "output_type": "execute_result"
    }
   ],
   "source": [
    "null_column_names=netflix_data.columns[netflix_data.isnull().any()]\n",
    "null_column_names\n"
   ]
  },
  {
   "cell_type": "markdown",
   "id": "6b54cd3e",
   "metadata": {},
   "source": [
    "DUPLICATE VALUES CHECK"
   ]
  },
  {
   "cell_type": "code",
   "execution_count": 9,
   "id": "f98bdd87",
   "metadata": {},
   "outputs": [
    {
     "data": {
      "text/plain": [
       "np.int64(0)"
      ]
     },
     "execution_count": 9,
     "metadata": {},
     "output_type": "execute_result"
    }
   ],
   "source": [
    "total_duplicated_values=netflix_data.duplicated().sum()\n",
    "total_duplicated_values\n"
   ]
  },
  {
   "cell_type": "markdown",
   "id": "73e8c9d0",
   "metadata": {},
   "source": [
    "So, there are no duplicate rows in the dataset."
   ]
  },
  {
   "cell_type": "markdown",
   "id": "ba2e4b53",
   "metadata": {},
   "source": [
    "DATA TYPE CLASSIFICATION"
   ]
  },
  {
   "cell_type": "code",
   "execution_count": 10,
   "id": "4b286ef0",
   "metadata": {},
   "outputs": [
    {
     "data": {
      "text/plain": [
       "Index(['release_year'], dtype='object')"
      ]
     },
     "execution_count": 10,
     "metadata": {},
     "output_type": "execute_result"
    }
   ],
   "source": [
    "#extracting numeric columns\n",
    "numeric_col=netflix_data.select_dtypes(include='int').columns\n",
    "numeric_col"
   ]
  },
  {
   "cell_type": "code",
   "execution_count": 11,
   "id": "40847a49",
   "metadata": {},
   "outputs": [
    {
     "data": {
      "text/plain": [
       "Index(['show_id', 'type', 'title', 'director', 'cast', 'country', 'date_added',\n",
       "       'rating', 'duration', 'listed_in', 'description'],\n",
       "      dtype='object')"
      ]
     },
     "execution_count": 11,
     "metadata": {},
     "output_type": "execute_result"
    }
   ],
   "source": [
    "#extarcting categorical columns\n",
    "cat_col=netflix_data.select_dtypes(exclude='int').columns\n",
    "cat_col"
   ]
  },
  {
   "cell_type": "markdown",
   "id": "461e8961",
   "metadata": {},
   "source": [
    "EXPLORATORY DATA ANALYSIS (EDA) - NUMERICAL COLUMNS"
   ]
  },
  {
   "cell_type": "code",
   "execution_count": 12,
   "id": "01f3adfb",
   "metadata": {},
   "outputs": [
    {
     "data": {
      "text/html": [
       "<div>\n",
       "<style scoped>\n",
       "    .dataframe tbody tr th:only-of-type {\n",
       "        vertical-align: middle;\n",
       "    }\n",
       "\n",
       "    .dataframe tbody tr th {\n",
       "        vertical-align: top;\n",
       "    }\n",
       "\n",
       "    .dataframe thead th {\n",
       "        text-align: right;\n",
       "    }\n",
       "</style>\n",
       "<table border=\"1\" class=\"dataframe\">\n",
       "  <thead>\n",
       "    <tr style=\"text-align: right;\">\n",
       "      <th></th>\n",
       "      <th>release_year</th>\n",
       "    </tr>\n",
       "  </thead>\n",
       "  <tbody>\n",
       "    <tr>\n",
       "      <th>count</th>\n",
       "      <td>8807.000000</td>\n",
       "    </tr>\n",
       "    <tr>\n",
       "      <th>mean</th>\n",
       "      <td>2014.180198</td>\n",
       "    </tr>\n",
       "    <tr>\n",
       "      <th>std</th>\n",
       "      <td>8.819312</td>\n",
       "    </tr>\n",
       "    <tr>\n",
       "      <th>min</th>\n",
       "      <td>1925.000000</td>\n",
       "    </tr>\n",
       "    <tr>\n",
       "      <th>25%</th>\n",
       "      <td>2013.000000</td>\n",
       "    </tr>\n",
       "    <tr>\n",
       "      <th>50%</th>\n",
       "      <td>2017.000000</td>\n",
       "    </tr>\n",
       "    <tr>\n",
       "      <th>75%</th>\n",
       "      <td>2019.000000</td>\n",
       "    </tr>\n",
       "    <tr>\n",
       "      <th>max</th>\n",
       "      <td>2021.000000</td>\n",
       "    </tr>\n",
       "  </tbody>\n",
       "</table>\n",
       "</div>"
      ],
      "text/plain": [
       "       release_year\n",
       "count   8807.000000\n",
       "mean    2014.180198\n",
       "std        8.819312\n",
       "min     1925.000000\n",
       "25%     2013.000000\n",
       "50%     2017.000000\n",
       "75%     2019.000000\n",
       "max     2021.000000"
      ]
     },
     "execution_count": 12,
     "metadata": {},
     "output_type": "execute_result"
    }
   ],
   "source": [
    "netflix_data[numeric_col].describe()"
   ]
  },
  {
   "cell_type": "code",
   "execution_count": 13,
   "id": "ff7e1e3a",
   "metadata": {},
   "outputs": [
    {
     "data": {
      "image/png": "[encoded data removed]",
      "text/plain": [
       "<Figure size 638.75x500 with 1 Axes>"
      ]
     },
     "metadata": {},
     "output_type": "display_data"
    }
   ],
   "source": [
    "\n",
    "sns.displot(netflix_data[numeric_col])\n",
    "plt.show()"
   ]
  },
  {
   "cell_type": "markdown",
   "id": "b3ca9366",
   "metadata": {},
   "source": [
    "Key Insight: The distribution is left-skewed, indicating most content is recent"
   ]
  },
  {
   "cell_type": "markdown",
   "id": "2e0ba1a0",
   "metadata": {},
   "source": [
    " EXPLORATORY DATA ANALYSIS (EDA) - CATEGORICAL COLUMNS\n"
   ]
  },
  {
   "cell_type": "code",
   "execution_count": 14,
   "id": "bc8c0d84",
   "metadata": {},
   "outputs": [
    {
     "name": "stdout",
     "output_type": "stream",
     "text": [
      "show_id has 8807 unique values\n",
      "type has 2 unique values\n",
      "title has 8807 unique values\n",
      "director has 4528 unique values\n",
      "cast has 7692 unique values\n",
      "country has 748 unique values\n",
      "date_added has 1767 unique values\n",
      "rating has 17 unique values\n",
      "duration has 220 unique values\n",
      "listed_in has 514 unique values\n",
      "description has 8775 unique values\n"
     ]
    }
   ],
   "source": [
    "#Finding unique values per column\n",
    "for col in cat_col:\n",
    "    unique_cat_values=netflix_data[col].nunique()\n",
    "    print(f'{col} has {unique_cat_values} unique values')"
   ]
  },
  {
   "cell_type": "markdown",
   "id": "321bbaa9",
   "metadata": {},
   "source": [
    "DETAILED ANALYSIS OF KEY CATEGORICAL COLUMNS"
   ]
  },
  {
   "cell_type": "markdown",
   "id": "0286ba04",
   "metadata": {},
   "source": [
    "ANALYZING 'TYPE' COLUMN (Movie vs TV Show)"
   ]
  },
  {
   "cell_type": "code",
   "execution_count": 15,
   "id": "1ef46817",
   "metadata": {},
   "outputs": [
    {
     "data": {
      "text/plain": [
       "type\n",
       "Movie      6131\n",
       "TV Show    2676\n",
       "Name: count, dtype: int64"
      ]
     },
     "execution_count": 15,
     "metadata": {},
     "output_type": "execute_result"
    }
   ],
   "source": [
    "netflix_data['type'].value_counts()"
   ]
  },
  {
   "cell_type": "code",
   "execution_count": 16,
   "id": "6d4f6cac",
   "metadata": {},
   "outputs": [
    {
     "name": "stderr",
     "output_type": "stream",
     "text": [
      "C:\\Users\\Jesilda\\AppData\\Local\\Temp\\ipykernel_8976\\3376997353.py:1: FutureWarning: \n",
      "\n",
      "Passing `palette` without assigning `hue` is deprecated and will be removed in v0.14.0. Assign the `x` variable to `hue` and set `legend=False` for the same effect.\n",
      "\n",
      "  sns.countplot(data=netflix_data, x='type', palette='Set2')\n"
     ]
    },
    {
     "data": {
      "image/png": "[encoded data removed]",
      "text/plain": [
       "<Figure size 640x480 with 1 Axes>"
      ]
     },
     "metadata": {},
     "output_type": "display_data"
    }
   ],
   "source": [
    "sns.countplot(data=netflix_data, x='type', palette='Set2')\n",
    "plt.title('Distribution of Content Type')\n",
    "plt.xlabel('Type')\n",
    "plt.ylabel('Count')\n",
    "plt.show()\n"
   ]
  },
  {
   "cell_type": "markdown",
   "id": "40537e90",
   "metadata": {},
   "source": [
    "Movies comprise of almost 70% of the content produced where as the other 30% is TV Shows"
   ]
  },
  {
   "cell_type": "markdown",
   "id": "ac52170a",
   "metadata": {},
   "source": [
    "ANALYZING 'DIRECTOR' COLUMN"
   ]
  },
  {
   "cell_type": "code",
   "execution_count": 17,
   "id": "48ad0490",
   "metadata": {},
   "outputs": [
    {
     "data": {
      "text/plain": [
       "np.int64(2634)"
      ]
     },
     "execution_count": 17,
     "metadata": {},
     "output_type": "execute_result"
    }
   ],
   "source": [
    "#Missing value count\n",
    "netflix_data['director'].isnull().sum()"
   ]
  },
  {
   "cell_type": "markdown",
   "id": "b4aa39cb",
   "metadata": {},
   "source": [
    "Top 10 Directors by Number of Titles"
   ]
  },
  {
   "cell_type": "code",
   "execution_count": 18,
   "id": "4c32a12a",
   "metadata": {},
   "outputs": [],
   "source": [
    "top_directors=netflix_data['director'].value_counts().head(10)\n"
   ]
  },
  {
   "cell_type": "code",
   "execution_count": 19,
   "id": "9d0ef7da",
   "metadata": {},
   "outputs": [
    {
     "name": "stderr",
     "output_type": "stream",
     "text": [
      "C:\\Users\\Jesilda\\AppData\\Local\\Temp\\ipykernel_8976\\1948396736.py:1: FutureWarning: \n",
      "\n",
      "Passing `palette` without assigning `hue` is deprecated and will be removed in v0.14.0. Assign the `y` variable to `hue` and set `legend=False` for the same effect.\n",
      "\n",
      "  sns.barplot(x=top_directors.values, y=top_directors.index, palette='Greens_r')\n"
     ]
    },
    {
     "data": {
      "image/png": "[encoded data removed]",
      "text/plain": [
       "<Figure size 640x480 with 1 Axes>"
      ]
     },
     "metadata": {},
     "output_type": "display_data"
    }
   ],
   "source": [
    "sns.barplot(x=top_directors.values, y=top_directors.index, palette='Greens_r')\n",
    "plt.title('Top 10 Directors')\n",
    "plt.xlabel('Number of Titles')\n",
    "plt.ylabel('Director')\n",
    "plt.show()"
   ]
  },
  {
   "cell_type": "markdown",
   "id": "6f156b15",
   "metadata": {},
   "source": [
    "ANALYZING 'CAST' COLUMN"
   ]
  },
  {
   "cell_type": "code",
   "execution_count": 20,
   "id": "c1d45d12",
   "metadata": {},
   "outputs": [
    {
     "data": {
      "text/plain": [
       "np.int64(825)"
      ]
     },
     "execution_count": 20,
     "metadata": {},
     "output_type": "execute_result"
    }
   ],
   "source": [
    "#Missing value count\n",
    "netflix_data['cast'].isnull().sum()"
   ]
  },
  {
   "cell_type": "markdown",
   "id": "274ed60e",
   "metadata": {},
   "source": [
    "Top 10 Cast Members by Number of Appearances"
   ]
  },
  {
   "cell_type": "code",
   "execution_count": 21,
   "id": "d61dd4f2",
   "metadata": {},
   "outputs": [],
   "source": [
    "top_cast=netflix_data['cast'] \\\n",
    "    .dropna() \\\n",
    "    .str.split(',') \\\n",
    "    .explode() \\\n",
    "    .str.strip() \\\n",
    "    .value_counts() \\\n",
    "    .head(10)\n"
   ]
  },
  {
   "cell_type": "code",
   "execution_count": 22,
   "id": "4144964e",
   "metadata": {},
   "outputs": [
    {
     "name": "stderr",
     "output_type": "stream",
     "text": [
      "C:\\Users\\Jesilda\\AppData\\Local\\Temp\\ipykernel_8976\\2517313391.py:1: FutureWarning: \n",
      "\n",
      "Passing `palette` without assigning `hue` is deprecated and will be removed in v0.14.0. Assign the `y` variable to `hue` and set `legend=False` for the same effect.\n",
      "\n",
      "  sns.barplot(x=top_cast.values, y=top_cast.index, palette='Oranges_r')\n"
     ]
    },
    {
     "data": {
      "image/png": "[encoded data removed]",
      "text/plain": [
       "<Figure size 640x480 with 1 Axes>"
      ]
     },
     "metadata": {},
     "output_type": "display_data"
    }
   ],
   "source": [
    "sns.barplot(x=top_cast.values, y=top_cast.index, palette='Oranges_r')\n",
    "plt.title('Top 10 Cast Members')\n",
    "plt.xlabel('Number of Appearances')\n",
    "plt.ylabel('Actor')\n",
    "plt.show()"
   ]
  },
  {
   "cell_type": "markdown",
   "id": "dcbbcd88",
   "metadata": {},
   "source": [
    "ANALYZING 'COUNTRY' COLUMN"
   ]
  },
  {
   "cell_type": "code",
   "execution_count": 23,
   "id": "c7ab13b6",
   "metadata": {},
   "outputs": [
    {
     "data": {
      "text/plain": [
       "np.int64(831)"
      ]
     },
     "execution_count": 23,
     "metadata": {},
     "output_type": "execute_result"
    }
   ],
   "source": [
    "#Missing value count\n",
    "netflix_data['country'].isnull().sum()"
   ]
  },
  {
   "cell_type": "code",
   "execution_count": 24,
   "id": "2ea51890",
   "metadata": {},
   "outputs": [
    {
     "data": {
      "text/plain": [
       "array(['United States', 'South Africa', nan, 'India',\n",
       "       'United States, Ghana, Burkina Faso, United Kingdom, Germany, Ethiopia',\n",
       "       'United Kingdom', 'Germany, Czech Republic', 'Mexico', 'Turkey',\n",
       "       'Australia', 'United States, India, France', 'Finland',\n",
       "       'China, Canada, United States',\n",
       "       'South Africa, United States, Japan', 'Nigeria', 'Japan',\n",
       "       'Spain, United States', 'France', 'Belgium',\n",
       "       'United Kingdom, United States', 'United States, United Kingdom',\n",
       "       'France, United States', 'South Korea', 'Spain',\n",
       "       'United States, Singapore', 'United Kingdom, Australia, France',\n",
       "       'United Kingdom, Australia, France, United States',\n",
       "       'United States, Canada', 'Germany, United States',\n",
       "       'South Africa, United States', 'United States, Mexico',\n",
       "       'United States, Italy, France, Japan',\n",
       "       'United States, Italy, Romania, United Kingdom',\n",
       "       'Australia, United States', 'Argentina, Venezuela',\n",
       "       'United States, United Kingdom, Canada', 'China, Hong Kong',\n",
       "       'Russia', 'Canada', 'Hong Kong', 'United States, China, Hong Kong',\n",
       "       'Italy, United States', 'United States, Germany',\n",
       "       'United Kingdom, Canada, United States', ', South Korea',\n",
       "       'Ireland', 'India, Nepal',\n",
       "       'New Zealand, Australia, France, United States', 'Italy',\n",
       "       'Italy, Brazil, Greece', 'Argentina', 'Jordan', 'Colombia',\n",
       "       'United States, Japan', 'Belgium, United Kingdom',\n",
       "       'Switzerland, United Kingdom, Australia', 'Israel, United States',\n",
       "       'Canada, United States', 'Brazil', 'Argentina, Spain', 'Taiwan',\n",
       "       'United States, Nigeria', 'Bulgaria, United States',\n",
       "       'Spain, United Kingdom, United States', 'United States, China',\n",
       "       'United States, France',\n",
       "       'Spain, France, United Kingdom, United States',\n",
       "       ', France, Algeria', 'Poland', 'Germany',\n",
       "       'France, Israel, Germany, United States, United Kingdom',\n",
       "       'New Zealand', 'Saudi Arabia', 'Thailand', 'Indonesia',\n",
       "       'Egypt, Denmark, Germany', 'United States, Switzerland',\n",
       "       'Hong Kong, Canada, United States', 'Kuwait, United States',\n",
       "       'France, Canada, United States, Spain',\n",
       "       'France, Netherlands, Singapore', 'France, Belgium',\n",
       "       'Ireland, United States, United Kingdom', 'Egypt', 'Malaysia',\n",
       "       'Israel', 'Australia, New Zealand', 'United Kingdom, Germany',\n",
       "       'Belgium, Netherlands', 'South Korea, Czech Republic',\n",
       "       'Australia, Germany', 'Vietnam', 'United Kingdom, Belgium',\n",
       "       'United Kingdom, Australia, United States',\n",
       "       'France, Japan, United States',\n",
       "       'United Kingdom, Germany, Spain, United States',\n",
       "       'United Kingdom, United States, France, Italy',\n",
       "       'United States, Germany, Canada',\n",
       "       'United States, France, Italy, United Kingdom',\n",
       "       'United States, United Kingdom, Germany, Hungary',\n",
       "       'United States, New Zealand', 'Sweden', 'China', 'Lebanon',\n",
       "       'Romania', 'Finland, Germany', 'Lebanon, Syria', 'Philippines',\n",
       "       'Iceland', 'Denmark', 'United States, India',\n",
       "       'Philippines, Singapore, Indonesia',\n",
       "       'China, United States, Canada', 'Lebanon, United Arab Emirates',\n",
       "       'Canada, United States, Denmark', 'United Arab Emirates',\n",
       "       'Mexico, France, Colombia', 'Netherlands',\n",
       "       'Germany, United States, France', 'United States, Bulgaria',\n",
       "       'United Kingdom, France, Germany, United States',\n",
       "       'Norway, Denmark', 'Syria, France, Lebanon, Qatar',\n",
       "       'United States, Czech Republic', 'Mauritius',\n",
       "       'Canada, South Africa', 'Austria', 'Mexico, Brazil',\n",
       "       'Germany, France', 'Mexico, United States',\n",
       "       'United Kingdom, France, Spain, United States',\n",
       "       'United States, Australia',\n",
       "       'United States, United Kingdom, France', 'United States, Russia',\n",
       "       'United States, United Kingdom, New Zealand',\n",
       "       'Australia, United Kingdom', 'Canada, Nigeria, United States',\n",
       "       'France, United States, United Kingdom, Canada',\n",
       "       'France, United Kingdom', 'India, United Kingdom',\n",
       "       'Canada, United States, Mexico',\n",
       "       'United Kingdom, Germany, United States',\n",
       "       'Czech Republic, United Kingdom, United States',\n",
       "       'China, United Kingdom', 'Italy, United Kingdom', 'China, Taiwan',\n",
       "       'United States, Brazil, Japan, Spain, India',\n",
       "       'United States, China, United Kingdom', 'Cameroon',\n",
       "       'Lebanon, Palestine, Denmark, Qatar', 'Japan, United States',\n",
       "       'Uruguay, Germany', 'Egypt, Saudi Arabia',\n",
       "       'United Kingdom, France, Poland, Germany, United States',\n",
       "       'Ireland, Switzerland, United Kingdom, France, United States',\n",
       "       'United Kingdom, South Africa, France',\n",
       "       'Ireland, United Kingdom, France, Germany',\n",
       "       'Russia, United States', 'United Kingdom, United States, France',\n",
       "       'United Kingdom,', 'United States, India, United Kingdom', 'Kenya',\n",
       "       'Spain, Argentina', 'India, United Kingdom, France, Qatar',\n",
       "       'Belgium, France', 'Argentina, Chile', 'United States, Thailand',\n",
       "       'Chile, Brazil', 'United States, Colombia',\n",
       "       'Canada, United States, United Kingdom', 'Uruguay', 'Luxembourg',\n",
       "       'United States, Cambodia, Romania', 'Bangladesh',\n",
       "       'Spain, Belgium, United States',\n",
       "       'United Kingdom, United States, Australia',\n",
       "       'Canada, United States, France', 'Portugal, United States',\n",
       "       'Portugal, Spain', 'India, United States',\n",
       "       'United Kingdom, Ireland', 'United Kingdom, Spain, United States',\n",
       "       'Hungary, United States', 'United States, South Korea',\n",
       "       'Canada, United States, Cayman Islands', 'India, France',\n",
       "       'France, Canada', 'Canada, Hungary, United States', 'Norway',\n",
       "       'Canada, United Kingdom, United States',\n",
       "       'United Kingdom, Germany, France, United States',\n",
       "       'Denmark, United States', 'Senegal', 'France, Algeria',\n",
       "       'United Kingdom, Finland, Germany, United States, Australia, Japan, France, Ireland',\n",
       "       'Philippines, Canada, United Kingdom, United States',\n",
       "       'Ireland, France, Iceland, United States, Mexico, Belgium, United Kingdom, Hong Kong',\n",
       "       'Singapore', 'Kuwait', 'United States, France, Serbia',\n",
       "       'United States, Italy', 'Spain, Italy',\n",
       "       'United States, Ireland, United Kingdom, India',\n",
       "       'United Kingdom, Singapore', 'Hong Kong, United States',\n",
       "       'United States, Malta, France, United Kingdom',\n",
       "       'United States, China, Canada', 'Canada, United States, Ireland',\n",
       "       'Lebanon, Canada, France', 'Japan, Canada, United States',\n",
       "       'Spain, France, Canada',\n",
       "       'Denmark, Singapore, Canada, United States',\n",
       "       'United States, France, Denmark', 'United States, China, Colombia',\n",
       "       'Spain, Thailand, United States', 'Mexico, Spain',\n",
       "       'Ireland, Luxembourg, Belgium', 'China, United States',\n",
       "       'Canada, Belgium', 'Canada, United Kingdom',\n",
       "       'Lebanon, United Arab Emirates, France, Switzerland, Germany',\n",
       "       'France, Belgium, Italy',\n",
       "       'Lebanon, United States, United Arab Emirates', 'Lebanon, France',\n",
       "       'France, Lebanon', 'France, Lebanon, United Kingdom',\n",
       "       'France, Norway, Lebanon, Belgium',\n",
       "       'Sweden, Czech Republic, United Kingdom, Denmark, Netherlands',\n",
       "       'United States, United Kingdom, India', 'Indonesia, Netherlands',\n",
       "       'Turkey, South Korea', 'Serbia, United States', 'Namibia',\n",
       "       'United Kingdom, Kenya', 'United Kingdom, France, Germany, Spain',\n",
       "       'United Kingdom, France, United States, Belgium, Luxembourg, China, Germany',\n",
       "       'Thailand, United States',\n",
       "       'United States, France, Canada, Belgium', 'United Kingdom, China',\n",
       "       'Germany, China, United Kingdom',\n",
       "       'Australia, New Zealand, United States',\n",
       "       'Hong Kong, Iceland, United States', 'France, Australia, Germany',\n",
       "       'United States, Belgium, Canada, France', 'South Africa, Angola',\n",
       "       'United States, Philippines',\n",
       "       'United States, United Kingdom, Canada, China',\n",
       "       'United States, Canada, United Kingdom', 'Turkey, United States',\n",
       "       'Peru, Germany, Norway', 'Mozambique', 'Brazil, France',\n",
       "       'China, Spain, South Korea, United States', 'Spain, Germany',\n",
       "       'Hong Kong, China', 'France, Belgium, Luxembourg, Cambodia,',\n",
       "       'United Kingdom, Australia', 'Belarus',\n",
       "       'Indonesia, United Kingdom',\n",
       "       'Switzerland, France, Belgium, United States', 'Ghana',\n",
       "       'Spain, France, Canada, United States', 'Chile, Italy',\n",
       "       'United Kingdom, Nigeria', 'Chile', 'France, Egypt',\n",
       "       'Egypt, France', 'France, Brazil, Spain, Belgium',\n",
       "       'Egypt, Algeria', 'Canada, South Korea, United States',\n",
       "       'Nigeria, United Kingdom', 'United States, France, Canada',\n",
       "       'Poland, United States',\n",
       "       'United Arab Emirates, Jordan, Lebanon, Saudi Arabia',\n",
       "       'United States, Mexico, Spain, Malta',\n",
       "       'Saudi Arabia, United Arab Emirates', 'Zimbabwe',\n",
       "       'United Kingdom, Germany, United Arab Emirates, New Zealand',\n",
       "       'Romania, United States', 'Canada, Nigeria',\n",
       "       'Saudi Arabia, Netherlands, Germany, Jordan, United Arab Emirates, United States',\n",
       "       'United Kingdom, Spain', 'Finland, France',\n",
       "       'United Kingdom, Germany, United States, France',\n",
       "       'India, United Kingdom, China, Canada, Japan, South Korea, United States',\n",
       "       'Italy, United Kingdom, France', 'United States, Mexico, Colombia',\n",
       "       'Turkey, India', 'Italy, Turkey',\n",
       "       'United Kingdom, United States, Japan',\n",
       "       'France, Belgium, United States',\n",
       "       'Puerto Rico, United States, Colombia', 'Uruguay, Argentina',\n",
       "       'United States, United Kingdom, Japan', 'United States, Argentina',\n",
       "       'United Kingdom, Italy', 'Ireland, United Kingdom',\n",
       "       'United Kingdom, France, Belgium, Canada, United States',\n",
       "       'Netherlands, Germany, Denmark, United Kingdom', 'Hungary',\n",
       "       'Austria, Germany', 'Taiwan, China',\n",
       "       'United Kingdom, United States, Ireland',\n",
       "       'South Korea, United States', 'Brazil, United Kingdom',\n",
       "       'Pakistan, United States', 'Romania, France, Switzerland, Germany',\n",
       "       'Romania, United Kingdom', 'France, Malta, United States',\n",
       "       'Cyprus',\n",
       "       'United Kingdom, France, Belgium, Ireland, United States',\n",
       "       'United States, Norway, Canada', 'Kenya, United States',\n",
       "       'France, South Korea, Japan, United States', 'Taiwan, Malaysia',\n",
       "       'Uruguay, Argentina, Germany, Spain',\n",
       "       'United States, United Kingdom, France, Germany, Japan',\n",
       "       'United States, France, Japan',\n",
       "       'United Kingdom, France, United States',\n",
       "       'Spain, France, United States',\n",
       "       'Indonesia, South Korea, Singapore', 'United States, Spain',\n",
       "       'Netherlands, Germany, Italy, Canada',\n",
       "       'Spain, Germany, Denmark, United States', 'Norway, Sweden',\n",
       "       'South Korea, Canada, United States, China',\n",
       "       'Argentina, Uruguay, Serbia', 'France, Japan',\n",
       "       'Mauritius, South Africa', 'United States, Poland',\n",
       "       'United Kingdom, United States, Germany, Denmark, Belgium, Japan',\n",
       "       'India, Germany', 'India, United Kingdom, Canada, United States',\n",
       "       'Philippines, United States', 'Romania, Bulgaria, Hungary',\n",
       "       'Uruguay, Guatemala', 'France, Senegal, Belgium',\n",
       "       'United Kingdom, Canada', 'Mexico, United States, Spain, Colombia',\n",
       "       'Canada, Norway', 'Singapore, United States',\n",
       "       'Finland, Germany, Belgium', 'United Kingdom, France',\n",
       "       'United States, Chile', 'United Kingdom, Japan, United States',\n",
       "       'Spain, United Kingdom', 'Argentina, United States, Mexico',\n",
       "       'United States, South Korea, Japan', 'Canada, Australia',\n",
       "       'United Kingdom, Hungary, Australia', 'Italy, Belgium',\n",
       "       'United States, United Kingdom, Germany', 'Switzerland',\n",
       "       'Singapore, Malaysia',\n",
       "       'France, Belgium, Luxembourg, Romania, Canada, United States',\n",
       "       'South Africa, Nigeria', 'Spain, France',\n",
       "       'United Kingdom, Hong Kong', 'Pakistan', 'Brazil, United States',\n",
       "       'Denmark, Brazil, France, Portugal, Sweden', 'India, Turkey',\n",
       "       'Malaysia, Singapore, Hong Kong', 'Philippines, Singapore',\n",
       "       'Australia, Canada', 'Taiwan, China, France, United States',\n",
       "       'Germany, Italy', 'Colombia, Peru, United Kingdom',\n",
       "       'Thailand, China, United States', 'Argentina, United States',\n",
       "       'Sweden, United States', 'Uruguay, Spain, Mexico',\n",
       "       'France, Luxembourg, Canada', 'Denmark, Spain', 'Chile, Argentina',\n",
       "       'United Kingdom, Belgium, Sweden', 'Canada, Brazil',\n",
       "       'Italy, France', 'Canada, Germany',\n",
       "       'Pakistan, United Arab Emirates', 'Ghana, United States',\n",
       "       'Mexico, Finland', 'United Arab Emirates, United Kingdom, India',\n",
       "       'Netherlands, Belgium', 'United States, Taiwan',\n",
       "       'Austria, Iraq, United States', 'United Kingdom, Malawi',\n",
       "       'Paraguay, Argentina', 'United Kingdom, Russia, United States',\n",
       "       'India, Pakistan', 'Indonesia, Singapore', 'Spain, Belgium',\n",
       "       'Iceland, Sweden, Belgium', 'Croatia', 'Uruguay, Argentina, Spain',\n",
       "       'United Kingdom, Ireland, United States',\n",
       "       'Canada, Germany, France, United States', 'United Kingdom, Japan',\n",
       "       'Norway, Denmark, Netherlands, Sweden',\n",
       "       'Hong Kong, China, United States', 'Ireland, Canada',\n",
       "       'Italy, Switzerland, France, Germany', 'Mexico, Netherlands',\n",
       "       'United States, Sweden', 'Germany, France, Russia',\n",
       "       'France, Iran, United States', 'United Kingdom, India',\n",
       "       'Russia, Poland, Serbia', 'Spain, Portugal', 'Peru',\n",
       "       'Mexico, Argentina',\n",
       "       'United Kingdom, Canada, United States, Cayman Islands',\n",
       "       'Indonesia, United States',\n",
       "       'United States, Israel, United Kingdom, Canada',\n",
       "       'Norway, Iceland, United States', 'Czech Republic, United States',\n",
       "       'United Kingdom, India, United States',\n",
       "       'United Kingdom, West Germany', 'India, Australia',\n",
       "       'United States,', 'Belgium, United Kingdom, United States',\n",
       "       'India, Germany, Austria',\n",
       "       'United States, Brazil, South Korea, Mexico, Japan, Germany',\n",
       "       'Spain, Mexico', 'China, Japan', 'Argentina, France',\n",
       "       'China, United States, United Kingdom',\n",
       "       'France, Luxembourg, United States',\n",
       "       'China, United States, Australia', 'Colombia, Mexico',\n",
       "       'United States, Canada, Ireland', 'Chile, Peru',\n",
       "       'Argentina, Italy', 'Canada, Japan, United States',\n",
       "       'United Kingdom, Canada, United States, Germany',\n",
       "       'Italy, Switzerland, Albania, Poland',\n",
       "       'United States, Japan, Canada', 'Cambodia',\n",
       "       'Italy, United States, Argentina',\n",
       "       'Saudi Arabia, Syria, Egypt, Lebanon, Kuwait',\n",
       "       'United States, Canada, Indonesia, United Kingdom, China, Singapore',\n",
       "       'Spain, Colombia',\n",
       "       'United Kingdom, South Africa, Australia, United States',\n",
       "       'Bulgaria', 'Argentina, Brazil, France, Poland, Germany, Denmark',\n",
       "       'United Kingdom, Spain, United States, Germany',\n",
       "       'Philippines, Qatar', 'Netherlands, Belgium, Germany, Jordan',\n",
       "       'United Arab Emirates, United States', 'Norway, Germany, Sweden',\n",
       "       'South Korea, China', 'Georgia', 'Soviet Union, India',\n",
       "       'Australia, United Arab Emirates', 'Canada, Germany, South Africa',\n",
       "       'South Korea, China, United States', 'India, Soviet Union',\n",
       "       'India, Mexico', 'Georgia, Germany, France',\n",
       "       'United Arab Emirates, Romania', 'India, Malaysia',\n",
       "       'Germany, Jordan, Netherlands', 'Turkey, France, Germany, Poland',\n",
       "       'Greece, United States', 'France, United Kingdom, United States',\n",
       "       'Norway, Germany', 'France, Morocco', 'Cambodia, United States',\n",
       "       'United States, Denmark', 'United States, Colombia, Mexico',\n",
       "       'United Kingdom, Italy, Israel, Peru, United States',\n",
       "       'Argentina, Uruguay, Spain, France',\n",
       "       'United Kingdom, France, United States, Belgium',\n",
       "       'France, Canada, China, Cambodia',\n",
       "       'United Kingdom, France, Belgium, United States', 'Chile, France',\n",
       "       'Netherlands, United States', 'France, United Kingdom, India',\n",
       "       'Czech Republic, Slovakia', 'Singapore, France',\n",
       "       'Spain, Switzerland', 'United States, Australia, China',\n",
       "       'South Africa, United States, Germany',\n",
       "       'United States, United Kingdom, Australia',\n",
       "       'Spain, Italy, Argentina', 'Chile, Spain, Argentina, Germany',\n",
       "       'West Germany', 'Austria, Czech Republic', 'Lebanon, Qatar',\n",
       "       'United Kingdom, Jordan, Qatar, Iran',\n",
       "       'France, South Korea, Japan', 'Israel, Germany, France',\n",
       "       'Canada, Japan, Netherlands', 'United States, Hungary',\n",
       "       'France, Germany', 'France, Qatar',\n",
       "       'United Kingdom, Germany, Canada', 'Ireland, South Africa',\n",
       "       'Chile, United States, France', 'Belgium, France, Netherlands',\n",
       "       'United Kingdom, Ukraine, United States',\n",
       "       'Germany, Australia, France, China', 'Norway, United States',\n",
       "       'United States, Bermuda, Ecuador',\n",
       "       'United States, Hungary, Ireland, Canada',\n",
       "       'United Kingdom, Egypt, United States',\n",
       "       'United States, France, United Kingdom', 'Spain, Mexico, France',\n",
       "       'United States, South Africa', 'Hong Kong, China, Singapore',\n",
       "       'South Africa, China, United States', 'Denmark, France, Poland',\n",
       "       'New Zealand, United Kingdom',\n",
       "       'Netherlands, Denmark, South Africa', 'Iran, France',\n",
       "       'United Kingdom, United States, France, Germany',\n",
       "       'Australia, France', 'Ireland, United Kingdom, United States',\n",
       "       'United Kingdom, France, Germany', 'Canada, Luxembourg',\n",
       "       'Brazil, Netherlands, United States, Colombia, Austria, Germany',\n",
       "       'France, Canada, Belgium', 'Canada, France',\n",
       "       'Bulgaria, United States, Spain, Canada', 'Sweden, Netherlands',\n",
       "       'France, United States, Mexico',\n",
       "       'Australia, United Kingdom, United Arab Emirates, Canada',\n",
       "       'Australia, Armenia, Japan, Jordan, Mexico, Mongolia, New Zealand, Philippines, South Africa, Sweden, United States, Uruguay',\n",
       "       'India, Iran', 'France, Belgium, Spain',\n",
       "       'Denmark, Sweden, Israel, United States', 'United States, Iceland',\n",
       "       'United Kingdom, Russia',\n",
       "       'United States, Israel, Italy, South Africa',\n",
       "       'Netherlands, Denmark, France, Germany', 'South Korea, Japan',\n",
       "       'United Kingdom, Pakistan', 'France, New Zealand',\n",
       "       'United Kingdom, Czech Republic, United States, Germany, Bahamas',\n",
       "       'China, Germany, India, United States', 'Germany, Sri Lanka',\n",
       "       'United States, India, Bangladesh',\n",
       "       'United States, Canada, France', 'Brazil, France, Germany',\n",
       "       'Germany, United States, Hong Kong, Singapore',\n",
       "       'France, Germany, Switzerland',\n",
       "       'Germany, France, Luxembourg, United Kingdom, United States',\n",
       "       'United Kingdom, Canada, Italy', 'Czech Republic, France',\n",
       "       'Taiwan, Hong Kong, United States, China', 'Germany, Australia',\n",
       "       'United Kingdom, Poland, United States', 'Denmark, Zimbabwe',\n",
       "       'United Kingdom, South Africa',\n",
       "       'Finland, Sweden, Norway, Latvia, Germany',\n",
       "       'South Africa, United States, New Zealand, Canada',\n",
       "       'United States, Italy, United Kingdom, Liechtenstein',\n",
       "       'Denmark, France, Belgium, Italy, Netherlands, United States, United Kingdom',\n",
       "       'United States, Australia, Mexico',\n",
       "       'United Kingdom, Czech Republic, Germany, United States',\n",
       "       'France, China, Japan, United States',\n",
       "       'United States, South Korea, China', 'Germany, Belgium',\n",
       "       'Pakistan, Norway, United States',\n",
       "       'United States, Canada, Belgium, United Kingdom', 'Venezuela',\n",
       "       'Canada, France, Italy, Morocco, United States',\n",
       "       'Canada, Spain, France', 'United States, Indonesia',\n",
       "       'Spain, France, Italy',\n",
       "       'United Arab Emirates, United States, United Kingdom',\n",
       "       'United Kingdom, Israel, Russia', 'Spain, Cuba',\n",
       "       'United States, Brazil', 'United States, France, Mexico',\n",
       "       'United States, Nicaragua',\n",
       "       'United Kingdom, United States, Spain, Germany, Greece, Canada',\n",
       "       'Italy, Canada, France',\n",
       "       'United Kingdom, Denmark, Canada, Croatia', 'Italy, Germany',\n",
       "       'United States, France, United Kingdom, Japan',\n",
       "       'United States, United Kingdom, Denmark, Sweden',\n",
       "       'United States, United Kingdom, Italy',\n",
       "       'United States, France, Canada, Spain',\n",
       "       'Russia, United States, China', 'United States, Canada, Germany',\n",
       "       'Ireland, United States', 'United States, United Arab Emirates',\n",
       "       'United States, Ireland',\n",
       "       'Ireland, United Kingdom, Italy, United States', 'Poland,',\n",
       "       'Slovenia, Croatia, Germany, Czech Republic, Qatar',\n",
       "       'Canada, United Kingdom, Netherlands',\n",
       "       'United States, Spain, Germany', 'India, Japan',\n",
       "       'China, South Korea, United States',\n",
       "       'United Kingdom, France, Belgium',\n",
       "       'Canada, Ireland, United States',\n",
       "       'United Kingdom, United States, Dominican Republic',\n",
       "       'United States, Senegal', 'Germany, United Kingdom, United States',\n",
       "       'South Africa, Germany, Netherlands, France',\n",
       "       'Canada, United States, United Kingdom, France, Luxembourg',\n",
       "       'Ireland, United States, France', 'Germany, United States, Canada',\n",
       "       'United Kingdom, Germany, Canada, United States',\n",
       "       'United States, France, Canada, Lebanon, Qatar',\n",
       "       'Netherlands, Belgium, United Kingdom, United States',\n",
       "       'France, Belgium, China, United States',\n",
       "       'United States, Chile, Israel',\n",
       "       'United Kingdom, Norway, Denmark, Germany, Sweden',\n",
       "       'Norway, Denmark, Sweden', 'China, India, Nepal',\n",
       "       'Colombia, Mexico, United States', 'United Kingdom, South Korea',\n",
       "       'Denmark, China', 'United States, Greece, Brazil',\n",
       "       'South Korea, France',\n",
       "       'United States, Australia, Samoa, United Kingdom',\n",
       "       'Germany, United Kingdom', 'Argentina, Chile, Peru',\n",
       "       'Turkey, Azerbaijan', 'Poland, West Germany',\n",
       "       'Germany, United States, Sweden', 'Canada, Spain',\n",
       "       'United States, Cambodia', 'United States, Greece',\n",
       "       'Norway, United Kingdom, France, Ireland',\n",
       "       'United Kingdom, Poland', 'Israel, Sweden, Germany, Netherlands',\n",
       "       'Switzerland, France', 'Italy, India', 'United States, Botswana',\n",
       "       'Chile, Argentina, France, Spain, United States',\n",
       "       'United States, India, South Korea, China',\n",
       "       'Denmark, Germany, Belgium, United Kingdom, France',\n",
       "       'Denmark, Germany, Belgium, United Kingdom, France, Sweden',\n",
       "       'France, Switzerland, Spain, United States, United Arab Emirates',\n",
       "       'Brazil, India, China, United States',\n",
       "       'Denmark, France, United States, Sweden', 'Australia, Iraq',\n",
       "       'China, Morocco, Hong Kong', 'Canada, United States, Germany',\n",
       "       'United Kingdom, Thailand', 'Venezuela, Colombia',\n",
       "       'Colombia, United States',\n",
       "       'France, Germany, Czech Republic, Belgium',\n",
       "       'Switzerland, Vatican City, Italy, Germany, France',\n",
       "       'Portugal, France, Poland, United States',\n",
       "       'United States, New Zealand, Japan',\n",
       "       'United States, Netherlands, Japan, France', 'India, Switzerland',\n",
       "       'Canada, India', 'United States, Morocco',\n",
       "       'Singapore, Japan, France',\n",
       "       'Canada, Mexico, Germany, South Africa',\n",
       "       'United Kingdom, United States, Canada',\n",
       "       'Germany, France, United States, Canada, United Kingdom',\n",
       "       'United States, Uruguay', 'India, Canada',\n",
       "       'Ireland, Canada, United Kingdom, United States',\n",
       "       'United States, Germany, Australia', 'Australia, France, Ireland',\n",
       "       'Australia, India', 'United States, United Kingdom, Canada, Japan',\n",
       "       'Sweden, United Kingdom, Finland', 'Hong Kong, Taiwan',\n",
       "       'United States, United Kingdom, Spain, South Korea', 'Guatemala',\n",
       "       'Ukraine',\n",
       "       'Italy, South Africa, West Germany, Australia, United States',\n",
       "       'United States, Germany, United Kingdom, Australia',\n",
       "       'Italy, France, Switzerland', 'Canada, France, United States',\n",
       "       'Switzerland, United States', 'Thailand, Canada, United States',\n",
       "       'China, Hong Kong, United States', 'United Kingdom, New Zealand',\n",
       "       'Czech Republic, United Kingdom, France',\n",
       "       'Australia, United Kingdom, Canada', 'Jamaica, United States',\n",
       "       'Australia, United Kingdom, United States, New Zealand, Italy, France',\n",
       "       'France, United States, Canada',\n",
       "       'United Kingdom, France, Canada, Belgium, United States',\n",
       "       'Denmark, United Kingdom, Sweden', 'United States, Hong Kong',\n",
       "       'United States, Kazakhstan',\n",
       "       'Argentina, France, United States, Germany, Qatar',\n",
       "       'United States, Germany, United Kingdom',\n",
       "       'United States, Germany, United Kingdom, Italy',\n",
       "       'United States, New Zealand, United Kingdom',\n",
       "       'Finland, United States', 'Spain, France, Uruguay',\n",
       "       'France, Canada, United States', 'United States, Canada, China',\n",
       "       'Ireland, Canada, Luxembourg, United States, United Kingdom, Philippines, India',\n",
       "       'United States, Czech Republic, United Kingdom', 'Israel, Germany',\n",
       "       'Mexico, France',\n",
       "       'Israel, Germany, Poland, Luxembourg, Belgium, France, United States',\n",
       "       'Austria, United States', 'United Kingdom, Lithuania',\n",
       "       'United States, Greece, United Kingdom',\n",
       "       'United Kingdom, China, United States, India',\n",
       "       'United States, Sweden, Norway',\n",
       "       'United Kingdom, United States, Morocco',\n",
       "       'United States, United Kingdom, Morocco',\n",
       "       'Spain, Canada, United States',\n",
       "       'United States, India, United Arab Emirates',\n",
       "       'United Kingdom, Canada, France, United States',\n",
       "       'India, Germany, France',\n",
       "       'Belgium, Ireland, Netherlands, Germany, Afghanistan',\n",
       "       'France, Canada, Italy, United States, China',\n",
       "       'Ireland, United Kingdom, Greece, France, Netherlands',\n",
       "       'Denmark, Indonesia, Finland, Norway, United Kingdom, Israel, France, United States, Germany, Netherlands',\n",
       "       'New Zealand, United States',\n",
       "       'United States, Australia, South Africa, United Kingdom',\n",
       "       'United States, Germany, Mexico',\n",
       "       'Somalia, Kenya, Sudan, South Africa, United States',\n",
       "       'United States, Canada, Japan, Panama',\n",
       "       'United Kingdom, Spain, Belgium', 'Serbia, South Korea, Slovenia',\n",
       "       'Denmark, United Kingdom, South Africa, Sweden, Belgium',\n",
       "       'Germany, Canada, United States',\n",
       "       'Ireland, Canada, United States, United Kingdom',\n",
       "       'New Zealand, United Kingdom, Australia',\n",
       "       'United Kingdom, Australia, Canada, United States',\n",
       "       'Germany, United States, Italy', 'United States, Venezuela',\n",
       "       'United Kingdom, Canada, Japan',\n",
       "       'United Kingdom, United States, Czech Republic',\n",
       "       'United Kingdom, China, United States',\n",
       "       'United Kingdom, Brazil, Germany',\n",
       "       'United Kingdom, Namibia, South Africa, Zimbabwe, United States',\n",
       "       'Canada, United States, India, United Kingdom',\n",
       "       'Switzerland, United Kingdom, United States',\n",
       "       'United Kingdom, India, Sweden',\n",
       "       'United States, Brazil, India, Uganda, China',\n",
       "       'Peru, United States, United Kingdom',\n",
       "       'Germany, United States, United Kingdom, Canada',\n",
       "       'Canada, India, Thailand, United States, United Arab Emirates',\n",
       "       'United States, East Germany, West Germany',\n",
       "       'France, Netherlands, South Africa, Finland',\n",
       "       'Egypt, Austria, United States', 'Russia, Spain',\n",
       "       'Croatia, Slovenia, Serbia, Montenegro', 'Japan, Canada',\n",
       "       'United States, France, South Korea, Indonesia',\n",
       "       'United Arab Emirates, Jordan'], dtype=object)"
      ]
     },
     "execution_count": 24,
     "metadata": {},
     "output_type": "execute_result"
    }
   ],
   "source": [
    "netflix_data['country'].unique()"
   ]
  },
  {
   "cell_type": "markdown",
   "id": "53566918",
   "metadata": {},
   "source": [
    "Top 10 Countries by Content Production"
   ]
  },
  {
   "cell_type": "code",
   "execution_count": 25,
   "id": "b9e97755",
   "metadata": {},
   "outputs": [],
   "source": [
    "#10 frequently appearing countries\n",
    "top_countries=netflix_data['country'] \\\n",
    "    .dropna() \\\n",
    "    .str.split(',') \\\n",
    "    .explode() \\\n",
    "    .str.strip() \\\n",
    "    .value_counts() \\\n",
    "    .head(10)"
   ]
  },
  {
   "cell_type": "code",
   "execution_count": 26,
   "id": "bc79a3b2",
   "metadata": {},
   "outputs": [
    {
     "name": "stderr",
     "output_type": "stream",
     "text": [
      "C:\\Users\\Jesilda\\AppData\\Local\\Temp\\ipykernel_8976\\3060177083.py:1: FutureWarning: \n",
      "\n",
      "Passing `palette` without assigning `hue` is deprecated and will be removed in v0.14.0. Assign the `y` variable to `hue` and set `legend=False` for the same effect.\n",
      "\n",
      "  sns.barplot(x=top_countries.values, y=top_countries.index, palette='Blues_r')\n"
     ]
    },
    {
     "data": {
      "image/png": "[encoded data removed]",
      "text/plain": [
       "<Figure size 640x480 with 1 Axes>"
      ]
     },
     "metadata": {},
     "output_type": "display_data"
    }
   ],
   "source": [
    "sns.barplot(x=top_countries.values, y=top_countries.index, palette='Blues_r')\n",
    "plt.title('Top 10 Countries by Content Count')\n",
    "plt.xlabel('Number of Titles')\n",
    "plt.ylabel('Country')\n",
    "plt.show()"
   ]
  },
  {
   "cell_type": "code",
   "execution_count": 27,
   "id": "284da9b8",
   "metadata": {},
   "outputs": [],
   "source": [
    "countries_with_highest_movies=netflix_data[netflix_data.type=='Movie']"
   ]
  },
  {
   "cell_type": "code",
   "execution_count": 28,
   "id": "3de42162",
   "metadata": {},
   "outputs": [],
   "source": [
    "countries_with_highest_TVShows=netflix_data[netflix_data.type=='TV Show']"
   ]
  },
  {
   "cell_type": "code",
   "execution_count": 29,
   "id": "0da91935",
   "metadata": {},
   "outputs": [
    {
     "data": {
      "image/png": "[encoded data removed]",
      "text/plain": [
       "<Figure size 1200x600 with 1 Axes>"
      ]
     },
     "metadata": {},
     "output_type": "display_data"
    }
   ],
   "source": [
    "plt.figure(figsize=(12,6))\n",
    "sns.countplot(y='country',order=netflix_data['country'].value_counts().index[0:10],data=countries_with_highest_movies)\n",
    "plt.title(\"Top 10 countries producing movies\")\n",
    "plt.show()"
   ]
  },
  {
   "cell_type": "code",
   "execution_count": 30,
   "id": "1d7a3db3",
   "metadata": {},
   "outputs": [
    {
     "data": {
      "image/png": "[encoded data removed]",
      "text/plain": [
       "<Figure size 1200x600 with 1 Axes>"
      ]
     },
     "metadata": {},
     "output_type": "display_data"
    }
   ],
   "source": [
    "plt.figure(figsize=(12,6))\n",
    "sns.countplot(y='country',order=netflix_data['country'].value_counts().index[0:10],data=countries_with_highest_TVShows)\n",
    "plt.title(\"Top 10 countries producing TV Shows\")\n",
    "plt.show()"
   ]
  },
  {
   "cell_type": "markdown",
   "id": "97527e8c",
   "metadata": {},
   "source": [
    "The bar charts display the top 10 countries producing movies and TV shows on the platform. The United States leads by a significant margin in both categories, followed by India, which has a much stronger presence in movie production than in TV shows. Countries like the United Kingdom, Japan, and South Korea also contribute notably to both types of content."
   ]
  },
  {
   "cell_type": "markdown",
   "id": "6594d533",
   "metadata": {},
   "source": [
    "ANALYZING 'RATING' COLUMN"
   ]
  },
  {
   "cell_type": "code",
   "execution_count": 31,
   "id": "91d9263d",
   "metadata": {},
   "outputs": [
    {
     "data": {
      "text/plain": [
       "np.int64(4)"
      ]
     },
     "execution_count": 31,
     "metadata": {},
     "output_type": "execute_result"
    }
   ],
   "source": [
    "#Missing value count\n",
    "netflix_data['rating'].isnull().sum()"
   ]
  },
  {
   "cell_type": "code",
   "execution_count": 32,
   "id": "3b73e677",
   "metadata": {},
   "outputs": [
    {
     "data": {
      "text/plain": [
       "rating\n",
       "TV-MA       3207\n",
       "TV-14       2160\n",
       "TV-PG        863\n",
       "R            799\n",
       "PG-13        490\n",
       "TV-Y7        334\n",
       "TV-Y         307\n",
       "PG           287\n",
       "TV-G         220\n",
       "NR            80\n",
       "G             41\n",
       "TV-Y7-FV       6\n",
       "NC-17          3\n",
       "UR             3\n",
       "74 min         1\n",
       "84 min         1\n",
       "66 min         1\n",
       "Name: count, dtype: int64"
      ]
     },
     "execution_count": 32,
     "metadata": {},
     "output_type": "execute_result"
    }
   ],
   "source": [
    "rating_order=netflix_data['rating'].value_counts()\n",
    "rating_order"
   ]
  },
  {
   "cell_type": "code",
   "execution_count": 33,
   "id": "74f073a7",
   "metadata": {},
   "outputs": [],
   "source": [
    "rating_order_index=rating_order=netflix_data['rating'].value_counts().index\n"
   ]
  },
  {
   "cell_type": "code",
   "execution_count": 34,
   "id": "375ab27e",
   "metadata": {},
   "outputs": [
    {
     "name": "stderr",
     "output_type": "stream",
     "text": [
      "C:\\Users\\Jesilda\\AppData\\Local\\Temp\\ipykernel_8976\\2118611453.py:1: FutureWarning: \n",
      "\n",
      "Passing `palette` without assigning `hue` is deprecated and will be removed in v0.14.0. Assign the `y` variable to `hue` and set `legend=False` for the same effect.\n",
      "\n",
      "  sns.countplot(data=netflix_data, y='rating', order=rating_order_index, palette='Set3')\n"
     ]
    },
    {
     "data": {
      "image/png": "[encoded data removed]",
      "text/plain": [
       "<Figure size 640x480 with 1 Axes>"
      ]
     },
     "metadata": {},
     "output_type": "display_data"
    }
   ],
   "source": [
    "sns.countplot(data=netflix_data, y='rating', order=rating_order_index, palette='Set3')\n",
    "plt.title('Distribution of Age Ratings')\n",
    "plt.xlabel('Count')\n",
    "plt.ylabel('Rating')\n",
    "plt.show()\n"
   ]
  },
  {
   "cell_type": "markdown",
   "id": "96f000e8",
   "metadata": {},
   "source": [
    "The bar chart shows the distribution of age ratings in the content library, with the majority of titles rated TV-MA and TV-14, indicating a strong focus on content for mature and teen audiences. Ratings like TV-PG, R, and PG-13 follow, while content suitable for young children, such as TV-Y, TV-G, and PG, appears far less frequently."
   ]
  },
  {
   "cell_type": "markdown",
   "id": "d436bf58",
   "metadata": {},
   "source": [
    "ANALYZING 'LISTED_IN' COLUMN"
   ]
  },
  {
   "cell_type": "code",
   "execution_count": 35,
   "id": "0113b03d",
   "metadata": {},
   "outputs": [
    {
     "data": {
      "text/plain": [
       "np.int64(0)"
      ]
     },
     "execution_count": 35,
     "metadata": {},
     "output_type": "execute_result"
    }
   ],
   "source": [
    "#Missing value count\n",
    "netflix_data['listed_in'].isnull().sum()"
   ]
  },
  {
   "cell_type": "code",
   "execution_count": 36,
   "id": "a1244739",
   "metadata": {},
   "outputs": [
    {
     "data": {
      "text/plain": [
       "listed_in\n",
       "Dramas, International Movies                                  362\n",
       "Documentaries                                                 359\n",
       "Stand-Up Comedy                                               334\n",
       "Comedies, Dramas, International Movies                        274\n",
       "Dramas, Independent Movies, International Movies              252\n",
       "                                                             ... \n",
       "Classic & Cult TV, TV Horror, TV Mysteries                      1\n",
       "British TV Shows, TV Dramas, TV Sci-Fi & Fantasy                1\n",
       "Action & Adventure, Faith & Spirituality, Sci-Fi & Fantasy      1\n",
       "Comedies, Cult Movies, Sports Movies                            1\n",
       "Cult Movies, Dramas, Thrillers                                  1\n",
       "Name: count, Length: 514, dtype: int64"
      ]
     },
     "execution_count": 36,
     "metadata": {},
     "output_type": "execute_result"
    }
   ],
   "source": [
    "netflix_data['listed_in'].value_counts()"
   ]
  },
  {
   "cell_type": "markdown",
   "id": "e47b5e7c",
   "metadata": {},
   "source": [
    "Top 10 Genres"
   ]
  },
  {
   "cell_type": "code",
   "execution_count": 37,
   "id": "1ee0f0d0",
   "metadata": {},
   "outputs": [],
   "source": [
    "top_genres = netflix_data['listed_in'] \\\n",
    "    .dropna() \\\n",
    "    .str.split(',') \\\n",
    "    .explode() \\\n",
    "    .str.strip() \\\n",
    "    .value_counts()[:10]\n"
   ]
  },
  {
   "cell_type": "code",
   "execution_count": 38,
   "id": "1aa64057",
   "metadata": {},
   "outputs": [
    {
     "name": "stderr",
     "output_type": "stream",
     "text": [
      "C:\\Users\\Jesilda\\AppData\\Local\\Temp\\ipykernel_8976\\2107610092.py:1: FutureWarning: \n",
      "\n",
      "Passing `palette` without assigning `hue` is deprecated and will be removed in v0.14.0. Assign the `y` variable to `hue` and set `legend=False` for the same effect.\n",
      "\n",
      "  sns.barplot(x=top_genres.values, y=top_genres.index, palette='Purples_r')\n"
     ]
    },
    {
     "data": {
      "image/png": "[encoded data removed]",
      "text/plain": [
       "<Figure size 640x480 with 1 Axes>"
      ]
     },
     "metadata": {},
     "output_type": "display_data"
    }
   ],
   "source": [
    "\n",
    "sns.barplot(x=top_genres.values, y=top_genres.index, palette='Purples_r')\n",
    "plt.title('Top 10 Genres')\n",
    "plt.xlabel('Number of Titles')\n",
    "plt.ylabel('Genre')\n",
    "plt.show()"
   ]
  },
  {
   "cell_type": "markdown",
   "id": "c8f40984",
   "metadata": {},
   "source": [
    "MISSING VALUE TREATMENT"
   ]
  },
  {
   "cell_type": "markdown",
   "id": "7c83a496",
   "metadata": {},
   "source": [
    "Treating numerical columns"
   ]
  },
  {
   "cell_type": "code",
   "execution_count": 39,
   "id": "51ca19ae",
   "metadata": {},
   "outputs": [
    {
     "name": "stderr",
     "output_type": "stream",
     "text": [
      "C:\\Users\\Jesilda\\AppData\\Local\\Temp\\ipykernel_8976\\4129762391.py:1: FutureWarning: A value is trying to be set on a copy of a DataFrame or Series through chained assignment using an inplace method.\n",
      "The behavior will change in pandas 3.0. This inplace method will never work because the intermediate object on which we are setting values always behaves as a copy.\n",
      "\n",
      "For example, when doing 'df[col].method(value, inplace=True)', try using 'df.method({col: value}, inplace=True)' or df[col] = df[col].method(value) instead, to perform the operation inplace on the original object.\n",
      "\n",
      "\n",
      "  netflix_data['release_year'].fillna(netflix_data['release_year'].median(),inplace=True)\n"
     ]
    }
   ],
   "source": [
    "netflix_data['release_year'].fillna(netflix_data['release_year'].median(),inplace=True)\n"
   ]
  },
  {
   "cell_type": "code",
   "execution_count": 40,
   "id": "4db3e5b4",
   "metadata": {},
   "outputs": [
    {
     "data": {
      "text/plain": [
       "np.int64(0)"
      ]
     },
     "execution_count": 40,
     "metadata": {},
     "output_type": "execute_result"
    }
   ],
   "source": [
    "\n",
    "netflix_data['release_year'].isnull().sum()\n",
    "\n"
   ]
  },
  {
   "cell_type": "markdown",
   "id": "55fe06e8",
   "metadata": {},
   "source": [
    "All missing values fixed!"
   ]
  },
  {
   "cell_type": "markdown",
   "id": "2219699b",
   "metadata": {},
   "source": [
    "Treating categorical columns"
   ]
  },
  {
   "cell_type": "code",
   "execution_count": 41,
   "id": "1586059f",
   "metadata": {},
   "outputs": [
    {
     "name": "stderr",
     "output_type": "stream",
     "text": [
      "C:\\Users\\Jesilda\\AppData\\Local\\Temp\\ipykernel_8976\\1587463589.py:1: FutureWarning: A value is trying to be set on a copy of a DataFrame or Series through chained assignment using an inplace method.\n",
      "The behavior will change in pandas 3.0. This inplace method will never work because the intermediate object on which we are setting values always behaves as a copy.\n",
      "\n",
      "For example, when doing 'df[col].method(value, inplace=True)', try using 'df.method({col: value}, inplace=True)' or df[col] = df[col].method(value) instead, to perform the operation inplace on the original object.\n",
      "\n",
      "\n",
      "  netflix_data['director'].fillna('Unknown', inplace=True)\n"
     ]
    }
   ],
   "source": [
    "netflix_data['director'].fillna('Unknown', inplace=True)"
   ]
  },
  {
   "cell_type": "code",
   "execution_count": 42,
   "id": "7d1650df",
   "metadata": {},
   "outputs": [
    {
     "name": "stderr",
     "output_type": "stream",
     "text": [
      "C:\\Users\\Jesilda\\AppData\\Local\\Temp\\ipykernel_8976\\1386869763.py:1: FutureWarning: A value is trying to be set on a copy of a DataFrame or Series through chained assignment using an inplace method.\n",
      "The behavior will change in pandas 3.0. This inplace method will never work because the intermediate object on which we are setting values always behaves as a copy.\n",
      "\n",
      "For example, when doing 'df[col].method(value, inplace=True)', try using 'df.method({col: value}, inplace=True)' or df[col] = df[col].method(value) instead, to perform the operation inplace on the original object.\n",
      "\n",
      "\n",
      "  netflix_data['cast'].fillna('Unknown', inplace=True)\n"
     ]
    }
   ],
   "source": [
    "netflix_data['cast'].fillna('Unknown', inplace=True)\n"
   ]
  },
  {
   "cell_type": "code",
   "execution_count": 43,
   "id": "956d7003",
   "metadata": {},
   "outputs": [],
   "source": [
    "netflix_data['country'] = netflix_data['country'].fillna('Unknown')"
   ]
  },
  {
   "cell_type": "code",
   "execution_count": 44,
   "id": "19439d01",
   "metadata": {},
   "outputs": [
    {
     "name": "stderr",
     "output_type": "stream",
     "text": [
      "C:\\Users\\Jesilda\\AppData\\Local\\Temp\\ipykernel_8976\\3532698720.py:4: FutureWarning: Series.fillna with 'method' is deprecated and will raise in a future version. Use obj.ffill() or obj.bfill() instead.\n",
      "  netflix_data['date_added'] = netflix_data['date_added'].fillna(method='ffill')\n"
     ]
    }
   ],
   "source": [
    "netflix_data['date_added'] = pd.to_datetime(netflix_data['date_added'], format='mixed', errors='coerce')\n",
    "netflix_data = netflix_data.sort_values(by='date_added')\n",
    "\n",
    "netflix_data['date_added'] = netflix_data['date_added'].fillna(method='ffill')\n"
   ]
  },
  {
   "cell_type": "code",
   "execution_count": 45,
   "id": "3c1f6a5f",
   "metadata": {},
   "outputs": [
    {
     "name": "stderr",
     "output_type": "stream",
     "text": [
      "C:\\Users\\Jesilda\\AppData\\Local\\Temp\\ipykernel_8976\\1349234761.py:1: FutureWarning: A value is trying to be set on a copy of a DataFrame or Series through chained assignment using an inplace method.\n",
      "The behavior will change in pandas 3.0. This inplace method will never work because the intermediate object on which we are setting values always behaves as a copy.\n",
      "\n",
      "For example, when doing 'df[col].method(value, inplace=True)', try using 'df.method({col: value}, inplace=True)' or df[col] = df[col].method(value) instead, to perform the operation inplace on the original object.\n",
      "\n",
      "\n",
      "  netflix_data['rating'].fillna(netflix_data['rating'].mode()[0], inplace=True)\n"
     ]
    }
   ],
   "source": [
    "netflix_data['rating'].fillna(netflix_data['rating'].mode()[0], inplace=True)\n"
   ]
  },
  {
   "cell_type": "code",
   "execution_count": 46,
   "id": "ecf2e041",
   "metadata": {},
   "outputs": [
    {
     "name": "stderr",
     "output_type": "stream",
     "text": [
      "C:\\Users\\Jesilda\\AppData\\Local\\Temp\\ipykernel_8976\\202108073.py:1: FutureWarning: A value is trying to be set on a copy of a DataFrame or Series through chained assignment using an inplace method.\n",
      "The behavior will change in pandas 3.0. This inplace method will never work because the intermediate object on which we are setting values always behaves as a copy.\n",
      "\n",
      "For example, when doing 'df[col].method(value, inplace=True)', try using 'df.method({col: value}, inplace=True)' or df[col] = df[col].method(value) instead, to perform the operation inplace on the original object.\n",
      "\n",
      "\n",
      "  netflix_data['listed_in'].fillna('Unknown', inplace=True)\n"
     ]
    }
   ],
   "source": [
    "netflix_data['listed_in'].fillna('Unknown', inplace=True)\n"
   ]
  },
  {
   "cell_type": "code",
   "execution_count": 47,
   "id": "923a50a5",
   "metadata": {},
   "outputs": [],
   "source": [
    "netflix_data.loc[netflix_data['director']=='Louis C.K.','duration']=netflix_data['rating']"
   ]
  },
  {
   "cell_type": "code",
   "execution_count": 48,
   "id": "1811ebe2",
   "metadata": {},
   "outputs": [],
   "source": [
    "netflix_data.loc[[5541, 5794, 5813], 'rating'] = 'Unknown'\n"
   ]
  },
  {
   "cell_type": "code",
   "execution_count": 49,
   "id": "0580401a",
   "metadata": {},
   "outputs": [
    {
     "data": {
      "text/plain": [
       "5813    Unknown\n",
       "5794    Unknown\n",
       "5541    Unknown\n",
       "Name: rating, dtype: object"
      ]
     },
     "execution_count": 49,
     "metadata": {},
     "output_type": "execute_result"
    }
   ],
   "source": [
    "netflix_data.loc[netflix_data['director']=='Louis C.K.','rating']"
   ]
  },
  {
   "cell_type": "code",
   "execution_count": 50,
   "id": "109ce0ce",
   "metadata": {},
   "outputs": [
    {
     "data": {
      "text/plain": [
       "5541    74 min\n",
       "5794    84 min\n",
       "5813    66 min\n",
       "Name: duration, dtype: object"
      ]
     },
     "execution_count": 50,
     "metadata": {},
     "output_type": "execute_result"
    }
   ],
   "source": [
    "netflix_data.loc[[5541, 5794, 5813], 'duration']"
   ]
  },
  {
   "cell_type": "code",
   "execution_count": 51,
   "id": "a698a6a0",
   "metadata": {},
   "outputs": [
    {
     "data": {
      "text/plain": [
       "show_id         0\n",
       "type            0\n",
       "title           0\n",
       "director        0\n",
       "cast            0\n",
       "country         0\n",
       "date_added      0\n",
       "release_year    0\n",
       "rating          0\n",
       "duration        0\n",
       "listed_in       0\n",
       "description     0\n",
       "dtype: int64"
      ]
     },
     "execution_count": 51,
     "metadata": {},
     "output_type": "execute_result"
    }
   ],
   "source": [
    "netflix_data.isnull().sum()"
   ]
  },
  {
   "cell_type": "markdown",
   "id": "7572dad1",
   "metadata": {},
   "source": [
    "OUTLIER DETECTION AND TREATMENT"
   ]
  },
  {
   "cell_type": "markdown",
   "id": "c33fb39a",
   "metadata": {},
   "source": [
    "Analyzing outliers in 'release_year' column"
   ]
  },
  {
   "cell_type": "code",
   "execution_count": 52,
   "id": "64c13d7e",
   "metadata": {},
   "outputs": [
    {
     "data": {
      "image/png": "[encoded data removed]",
      "text/plain": [
       "<Figure size 640x480 with 1 Axes>"
      ]
     },
     "metadata": {},
     "output_type": "display_data"
    }
   ],
   "source": [
    "sns.boxplot(x=netflix_data['release_year'])\n",
    "plt.title('Boxplot of Release Year')\n",
    "plt.show()\n"
   ]
  },
  {
   "cell_type": "code",
   "execution_count": 53,
   "id": "c01590cf",
   "metadata": {},
   "outputs": [],
   "source": [
    "Q1 = netflix_data['release_year'].quantile(0.25)\n",
    "Q3 = netflix_data['release_year'].quantile(0.75)\n",
    "IQR = Q3 - Q1\n",
    "\n",
    "# Filtered dataset\n",
    "netflix_data_cleaned = netflix_data[\n",
    "    (netflix_data['release_year'] >= Q1 - 1.5 * IQR) &\n",
    "    (netflix_data['release_year'] <= Q3 + 1.5 * IQR)\n",
    "]\n"
   ]
  },
  {
   "cell_type": "markdown",
   "id": "8d4bc480",
   "metadata": {},
   "source": [
    "Analyzing outliers in 'release_year' column after outlier removal"
   ]
  },
  {
   "cell_type": "code",
   "execution_count": 54,
   "id": "150f5c19",
   "metadata": {},
   "outputs": [
    {
     "data": {
      "image/png": "[encoded data removed]",
      "text/plain": [
       "<Figure size 640x480 with 1 Axes>"
      ]
     },
     "metadata": {},
     "output_type": "display_data"
    }
   ],
   "source": [
    "sns.boxplot(x=netflix_data_cleaned['release_year'])\n",
    "plt.title('Release Year After Outlier Removal')\n",
    "plt.show()\n"
   ]
  },
  {
   "cell_type": "markdown",
   "id": "e97f723b",
   "metadata": {},
   "source": [
    "FEATURE ENCODING"
   ]
  },
  {
   "cell_type": "markdown",
   "id": "353b51b7",
   "metadata": {},
   "source": [
    "ONE-HOT ENCODING for 'type' column"
   ]
  },
  {
   "cell_type": "code",
   "execution_count": 55,
   "id": "0bfcd397",
   "metadata": {},
   "outputs": [],
   "source": [
    "from sklearn.preprocessing import OneHotEncoder\n",
    "\n",
    "type_ohe = OneHotEncoder(sparse_output=False, drop=None)\n",
    "type_encoded = type_ohe.fit_transform(netflix_data_cleaned[['type']])\n",
    "\n",
    "type_encoded_df = pd.DataFrame(type_encoded, columns=type_ohe.get_feature_names_out(['type']))\n",
    "\n",
    "netflix_data_cleaned = pd.concat([netflix_data_cleaned, type_encoded_df], axis=1)\n"
   ]
  },
  {
   "cell_type": "markdown",
   "id": "d634abc7",
   "metadata": {},
   "source": [
    "LABEL ENCODING for 'rating' column"
   ]
  },
  {
   "cell_type": "code",
   "execution_count": 56,
   "id": "956545bb",
   "metadata": {},
   "outputs": [],
   "source": [
    "from sklearn.preprocessing import LabelEncoder\n",
    "\n",
    "le_rating = LabelEncoder()\n",
    "netflix_data_cleaned['rating_encoded'] = le_rating.fit_transform(netflix_data_cleaned['rating'])\n"
   ]
  },
  {
   "cell_type": "markdown",
   "id": "6410bca1",
   "metadata": {},
   "source": [
    "FEATURE ENGINEERING"
   ]
  },
  {
   "cell_type": "markdown",
   "id": "cb1519af",
   "metadata": {},
   "source": [
    "Creating new features to enhance model performance"
   ]
  },
  {
   "cell_type": "markdown",
   "id": "99111214",
   "metadata": {},
   "source": [
    " TEMPORAL FEATURES from 'date_added'"
   ]
  },
  {
   "cell_type": "markdown",
   "id": "4beea75d",
   "metadata": {},
   "source": [
    "Extract Year, Month, Day from date_added"
   ]
  },
  {
   "cell_type": "code",
   "execution_count": 57,
   "id": "09c569d7",
   "metadata": {},
   "outputs": [],
   "source": [
    "# Ensure date_added is in datetime format\n",
    "netflix_data_cleaned['date_added'] = pd.to_datetime(netflix_data_cleaned['date_added'])\n",
    "\n",
    "# Extract year, month, and day name\n",
    "netflix_data_cleaned['year_added'] = netflix_data_cleaned['date_added'].dt.year\n",
    "netflix_data_cleaned['month_added'] = netflix_data_cleaned['date_added'].dt.month\n",
    "netflix_data_cleaned['day_added'] = netflix_data_cleaned['date_added'].dt.day_name()\n"
   ]
  },
  {
   "cell_type": "code",
   "execution_count": 58,
   "id": "3d37aa26",
   "metadata": {},
   "outputs": [
    {
     "name": "stderr",
     "output_type": "stream",
     "text": [
      "C:\\Users\\Jesilda\\AppData\\Local\\Temp\\ipykernel_8976\\3205181916.py:2: FutureWarning: \n",
      "\n",
      "Passing `palette` without assigning `hue` is deprecated and will be removed in v0.14.0. Assign the `x` variable to `hue` and set `legend=False` for the same effect.\n",
      "\n",
      "  sns.countplot(data=netflix_data_cleaned, x='month_added', palette='Spectral')\n"
     ]
    },
    {
     "data": {
      "image/png": "[encoded data removed]",
      "text/plain": [
       "<Figure size 640x480 with 1 Axes>"
      ]
     },
     "metadata": {},
     "output_type": "display_data"
    }
   ],
   "source": [
    "# Count of releases per month\n",
    "sns.countplot(data=netflix_data_cleaned, x='month_added', palette='Spectral')\n",
    "plt.title('Content Releases by Month')\n",
    "plt.xlabel('Month')\n",
    "plt.ylabel('Number of Titles')\n",
    "plt.show()\n"
   ]
  },
  {
   "cell_type": "code",
   "execution_count": 59,
   "id": "b4c8b829",
   "metadata": {},
   "outputs": [
    {
     "data": {
      "text/plain": [
       "Text(0, 0.5, 'Number of Titles')"
      ]
     },
     "execution_count": 59,
     "metadata": {},
     "output_type": "execute_result"
    },
    {
     "data": {
      "image/png": "[encoded data removed]",
      "text/plain": [
       "<Figure size 1200x600 with 1 Axes>"
      ]
     },
     "metadata": {},
     "output_type": "display_data"
    }
   ],
   "source": [
    "# Grouped by month and content type\n",
    "monthly_type = netflix_data_cleaned.groupby(['month_added', 'type']).size().unstack()\n",
    "monthly_type.plot(kind='bar', stacked=True, figsize=(12,6), colormap='coolwarm')\n",
    "plt.title('Monthly Distribution of Movies and TV Shows')\n",
    "plt.ylabel('Number of Titles')\n"
   ]
  },
  {
   "cell_type": "code",
   "execution_count": 64,
   "id": "4d656516",
   "metadata": {},
   "outputs": [],
   "source": [
    "# Flag for weekend vs weekday\n",
    "netflix_data_cleaned['is_weekend'] = netflix_data_cleaned['day_added'].isin(['Saturday', 'Sunday'])\n"
   ]
  },
  {
   "cell_type": "code",
   "execution_count": 66,
   "id": "864eaf6b",
   "metadata": {},
   "outputs": [
    {
     "data": {
      "text/plain": [
       "Text(0.5, 1.0, 'Day of Week When Content Was Added')"
      ]
     },
     "execution_count": 66,
     "metadata": {},
     "output_type": "execute_result"
    },
    {
     "data": {
      "image/png": "[encoded data removed]",
      "text/plain": [
       "<Figure size 640x480 with 1 Axes>"
      ]
     },
     "metadata": {},
     "output_type": "display_data"
    }
   ],
   "source": [
    "sns.countplot(x='day_added', data=netflix_data_cleaned, order=[\n",
    "    'Monday', 'Tuesday', 'Wednesday', 'Thursday', 'Friday', 'Saturday', 'Sunday'\n",
    "])\n",
    "plt.title('Day of Week When Content Was Added')\n"
   ]
  },
  {
   "cell_type": "code",
   "execution_count": 67,
   "id": "1a8a917a",
   "metadata": {},
   "outputs": [],
   "source": [
    "# Extract MM-DD format for easier holiday matching\n",
    "netflix_data_cleaned['added_mmdd'] = netflix_data_cleaned['date_added'].dt.strftime('%m-%d')\n"
   ]
  },
  {
   "cell_type": "code",
   "execution_count": 68,
   "id": "c66c1550",
   "metadata": {},
   "outputs": [],
   "source": [
    "holiday_dates = {\n",
    "    'valentine': '02-14',\n",
    "    'halloween': '10-31',\n",
    "    'new_year': '01-01',\n",
    "    'independence_us': '07-04',\n",
    "    'christmas': '12-25'\n",
    "}\n",
    "\n",
    "for name, date in holiday_dates.items():\n",
    "    netflix_data_cleaned[f'is_{name}'] = netflix_data_cleaned['added_mmdd'] == date\n"
   ]
  },
  {
   "cell_type": "code",
   "execution_count": 70,
   "id": "2840a5ac",
   "metadata": {},
   "outputs": [],
   "source": [
    "# Ensure 'listed_in' is not null\n",
    "netflix_data_cleaned['listed_in'] = netflix_data_cleaned['listed_in'].fillna('Unknown')\n",
    "\n",
    "# Extract main genre (first genre listed)\n",
    "netflix_data_cleaned['main_genre'] = netflix_data_cleaned['listed_in'].apply(\n",
    "    lambda x: x.split(',')[0].strip() if isinstance(x, str) else 'Unknown'\n",
    ")\n"
   ]
  },
  {
   "cell_type": "code",
   "execution_count": 71,
   "id": "93657034",
   "metadata": {},
   "outputs": [
    {
     "data": {
      "text/plain": [
       "<Axes: xlabel='count', ylabel='main_genre'>"
      ]
     },
     "execution_count": 71,
     "metadata": {},
     "output_type": "execute_result"
    },
    {
     "data": {
      "image/png": "[encoded data removed]",
      "text/plain": [
       "<Figure size 640x480 with 1 Axes>"
      ]
     },
     "metadata": {},
     "output_type": "display_data"
    }
   ],
   "source": [
    "# Check genre trends around holidays\n",
    "sns.countplot(data=netflix_data_cleaned[netflix_data_cleaned['is_halloween']], y='main_genre')\n"
   ]
  },
  {
   "cell_type": "code",
   "execution_count": 72,
   "id": "77e34805",
   "metadata": {},
   "outputs": [
    {
     "data": {
      "text/plain": [
       "<matplotlib.legend.Legend at 0x1e566109660>"
      ]
     },
     "execution_count": 72,
     "metadata": {},
     "output_type": "execute_result"
    },
    {
     "data": {
      "image/png": "[encoded data removed]",
      "text/plain": [
       "<Figure size 640x480 with 1 Axes>"
      ]
     },
     "metadata": {},
     "output_type": "display_data"
    }
   ],
   "source": [
    "top_genres = netflix_data_cleaned['main_genre'].value_counts().head(6).index\n",
    "\n",
    "filtered = netflix_data_cleaned[netflix_data_cleaned['main_genre'].isin(top_genres)]\n",
    "\n",
    "sns.countplot(data=filtered, x='month_added', hue='main_genre', palette='Set2')\n",
    "plt.title('Top Genres Released by Month')\n",
    "plt.legend(loc='upper right')"
   ]
  },
  {
   "cell_type": "code",
   "execution_count": 73,
   "id": "be84fb27",
   "metadata": {},
   "outputs": [],
   "source": [
    "# Create MM-DD format to match with holidays\n",
    "netflix_data_cleaned['added_mmdd'] = netflix_data_cleaned['date_added'].dt.strftime('%m-%d')\n",
    "\n",
    "# Holiday mapping\n",
    "holiday_map = {\n",
    "    'is_christmas': '12-25',\n",
    "    'is_valentine': '02-14',\n",
    "    'is_halloween': '10-31',\n",
    "    'is_new_year': '01-01',\n",
    "    'is_independence_us': '07-04'\n",
    "}\n",
    "\n",
    "# Add columns\n",
    "for col, date in holiday_map.items():\n",
    "    netflix_data_cleaned[col] = netflix_data_cleaned['added_mmdd'] == date\n",
    "\n"
   ]
  },
  {
   "cell_type": "code",
   "execution_count": 74,
   "id": "5c496c2a",
   "metadata": {},
   "outputs": [
    {
     "data": {
      "image/png": "[encoded data removed]",
      "text/plain": [
       "<Figure size 640x480 with 1 Axes>"
      ]
     },
     "metadata": {},
     "output_type": "display_data"
    },
    {
     "data": {
      "image/png": "[encoded data removed]",
      "text/plain": [
       "<Figure size 640x480 with 1 Axes>"
      ]
     },
     "metadata": {},
     "output_type": "display_data"
    },
    {
     "data": {
      "image/png": "[encoded data removed]",
      "text/plain": [
       "<Figure size 640x480 with 1 Axes>"
      ]
     },
     "metadata": {},
     "output_type": "display_data"
    },
    {
     "data": {
      "image/png": "[encoded data removed]",
      "text/plain": [
       "<Figure size 640x480 with 1 Axes>"
      ]
     },
     "metadata": {},
     "output_type": "display_data"
    },
    {
     "data": {
      "image/png": "[encoded data removed]",
      "text/plain": [
       "<Figure size 640x480 with 1 Axes>"
      ]
     },
     "metadata": {},
     "output_type": "display_data"
    }
   ],
   "source": [
    "# Plot genre distribution for each holiday\n",
    "for col in holiday_map.keys():\n",
    "    holiday_name = col.replace('is_', '').replace('_', ' ').title()\n",
    "    holiday_data = netflix_data_cleaned[netflix_data_cleaned[col]]\n",
    "    if not holiday_data.empty:\n",
    "        top_holiday_genres = holiday_data['main_genre'].value_counts().head(7)\n",
    "        sns.barplot(y=top_holiday_genres.index, x=top_holiday_genres.values)\n",
    "        plt.title(f'Top Genres Released on {holiday_name}')\n",
    "        plt.xlabel('Number of Titles')\n",
    "        plt.ylabel('Genre')\n",
    "        plt.show()\n"
   ]
  },
  {
   "cell_type": "code",
   "execution_count": 76,
   "id": "4c6ec4fc",
   "metadata": {},
   "outputs": [],
   "source": [
    "netflix_data_cleaned['duration_num'] = netflix_data_cleaned['duration'].str.extract('(\\d+)').astype(float)\n",
    "netflix_data_cleaned['duration_type'] = netflix_data_cleaned['duration'].str.extract('([a-zA-Z ]+)$').fillna('Unknown')"
   ]
  },
  {
   "cell_type": "code",
   "execution_count": 78,
   "id": "2ff5aacc",
   "metadata": {},
   "outputs": [
    {
     "data": {
      "image/png": "[encoded data removed]",
      "text/plain": [
       "<Figure size 640x480 with 1 Axes>"
      ]
     },
     "metadata": {},
     "output_type": "display_data"
    }
   ],
   "source": [
    "# Plot top 5 genres by day of the week\n",
    "top_genres = netflix_data_cleaned['main_genre'].value_counts().head(5).index\n",
    "filtered_genres = netflix_data_cleaned[netflix_data_cleaned['main_genre'].isin(top_genres)]\n",
    "\n",
    "sns.countplot(data=filtered_genres, x='day_added', hue='main_genre',\n",
    "              order=['Monday', 'Tuesday', 'Wednesday', 'Thursday', 'Friday', 'Saturday', 'Sunday'],\n",
    "              palette='Set2')\n",
    "plt.title('Top Genres Released by Day of the Week')\n",
    "plt.xticks(rotation=45)\n",
    "plt.legend(loc='upper right')\n",
    "plt.show()\n"
   ]
  },
  {
   "cell_type": "markdown",
   "id": "3f0a0f06",
   "metadata": {},
   "source": [
    "# 📈 Netflix Content Strategy – Temporal & Genre Insights Analysis\n",
    "\n",
    "## 1. Content Releases by Month\n",
    "\n",
    "**Business Question**  \n",
    "_When does Netflix release the most content?_\n",
    "\n",
    "**Insight**  \n",
    "Content release peaks occur in **July**, **April**, and **December**.\n",
    "\n",
    "**Netflix Can Take Action**  \n",
    "- Reserve **series and movies of mostly watched movie genres** for high-traffic months.\n",
    "- Run seasonal campaigns like **\"July Blockbusters\"** and **\"December Binge Fest\"** maybe with some **discount during those months to attract more crowd**.\n",
    "\n",
    "---\n",
    "\n",
    "## 2. Monthly Distribution of Movies vs TV Shows\n",
    "\n",
    "**Business Question**  \n",
    "_Do Movies and TV Shows follow similar release patterns across months?_\n",
    "\n",
    "**Insight**  \n",
    "- **TV Shows spike** in **July**.\n",
    "- **Movies** are more evenly released throughout the year.\n",
    "\n",
    "**Netflix Can Take Action**  \n",
    "- Launch **new show seasons mid-year** (July) when **binge-watching increases**.\n",
    "- Use movies to **maintain engagement** year-round.\n",
    "\n",
    "\n",
    "---\n",
    "\n",
    "## 3. Day of the Week When Content is Added\n",
    "\n",
    "**Business Question**  \n",
    "_What days of the week are most common for adding content?_\n",
    "\n",
    "**Insight**  \n",
    "- **Fridays dominate**, followed by **Thursdays** and **Wednesdays**.\n",
    "- **Weekends have the fewest additions**.\n",
    "\n",
    "**Netflix Can Take Action**  \n",
    "- Focus major launches on **Fridays** to capture **weekend binge traffic**.\n",
    "- Use Thursdays for **\"New Tomorrow\" teasers** to build anticipation.\n",
    "\n",
    "---\n",
    "\n",
    "## 4. Top Genres on Netflix\n",
    "\n",
    "**Business Question**  \n",
    "_Which genres are most prevalent in Netflix’s content catalog?_\n",
    "\n",
    "**Insight**  \n",
    "- Top genres include **Dramas**, **Crime TV Shows**, and **Stand up Comedies**.\n",
    "\n",
    "**Netflix Can Take Action**  \n",
    "- Continue investing in **drama & crime series**, as they **retain viewers** well.\n",
    "- Package documentary content into **mini-series** or **watchlists** to enhance experinece.\n",
    "\n",
    "---\n",
    "\n",
    "## 5. Top Genres Released by Month\n",
    "\n",
    "**Business Question**  \n",
    "_Do genre trends shift month to month?_\n",
    "\n",
    "**Insight**  \n",
    "- **Dramas are consistent** year-round.\n",
    "- **Documentaries** spike in **April,July & October**.\n",
    "\n",
    "\n",
    "**Netflix Can Take Action**  \n",
    "- Promote **comedies and family films** around **holidays**.\n",
    "\n",
    "\n",
    "---\n",
    "\n",
    "## 6. Genre Distribution on Major Holidays\n",
    "\n",
    "### 🎄 Christmas\n",
    "**Insight**: Action, Family Movies, and Documentaries lead.\n",
    "**Action**: Promote \"**Holiday Adventures**\" and \"**Festive Family Picks**\".\n",
    "\n",
    "### 💘 Valentine’s Day\n",
    "**Insight**: Comedies and Rom-Coms dominate.\n",
    "**Action**: Curate \"**Love & Laughs**\" collections or \"**Date Night Watchlists**\".\n",
    "\n",
    "### 🎃 Halloween\n",
    "**Insight**: Dramas, Crime,Stand-Up Horror top the list.\n",
    "**Action**: Run \"**October Specials**\" or \"**True Crime Nights**\".\n",
    "\n",
    "### 🎉 New Year\n",
    "**Insight**: Dramas and Comedies spike.\n",
    "**Action**: Promote \"**Fresh Starts**\" and \"**Laugh Into the New Year**\" lists.\n",
    "\n",
    "### 🇺🇸 Independence Day (US)\n",
    "**Insight**: Documentaries and Kids’ content dominate.\n",
    "**Action**: Push \"**American Stories**\", \"**Family Fireworks Watchlists**\".\n",
    "\n",
    "---\n",
    "\n",
    "## 7. Genre Distribution by Day of Week\n",
    "\n",
    "**Business Question**  \n",
    "_Which genres are released on which weekdays?_\n",
    "\n",
    "**Insight**  \n",
    "- **Dramas** have a high count mid week.\n",
    "- **Comedies** count are higher around **Fridays**.\n",
    "- **Documentaries** spread evenly.\n",
    "\n",
    "**Netflix Can Take Action**  \n",
    "- Create **weekly themed drops**, such as:\n",
    "  - **Monday Mysteries** (Crime/Drama)\n",
    "  - **Wednesday Docs** (Documentaries)\n",
    "  - **Friday Fun Nights** (Comedy & Originals)\n",
    "\n",
    "---\n",
    "\n",
    "## ✅ Final Summary\n",
    "\n",
    "Netflix can enhance customer retention by using insights on **time, genre, and user behavior** to drive:\n",
    "\n",
    "- **Smarter content scheduling**\n",
    "- **Seasonal genre alignment**\n",
    "- **Weekly release patterns**\n",
    "- **Holiday-specific programming**\n",
    "\n",
    "These strategies help maximize watch time, boost satisfaction, and reduce churn — all critical to **retaining a global subscriber base**.\n"
   ]
  },
  {
   "cell_type": "code",
   "execution_count": 89,
   "id": "9206eceb",
   "metadata": {},
   "outputs": [
    {
     "data": {
      "text/plain": [
       "array(['Dramas', 'Stand-Up Comedy & Talk Shows', 'Horror Movies',\n",
       "       'Documentaries', 'Comedies', 'Children & Family Movies',\n",
       "       'Crime TV Shows', 'TV Dramas', 'Stand-Up Comedy', 'Docuseries',\n",
       "       'Action & Adventure', 'TV Comedies', 'Movies',\n",
       "       'TV Action & Adventure', \"Kids' TV\", 'Romantic TV Shows',\n",
       "       'British TV Shows', 'Classic & Cult TV', 'TV Horror',\n",
       "       'International TV Shows', 'Anime Series', 'Music & Musicals',\n",
       "       'International Movies', 'Thrillers', 'Reality TV',\n",
       "       'Anime Features', 'Independent Movies', 'TV Sci-Fi & Fantasy',\n",
       "       'TV Shows', 'Romantic Movies', 'Sci-Fi & Fantasy', 'Cult Movies',\n",
       "       'Sports Movies', 'Classic Movies', 'Spanish-Language TV Shows',\n",
       "       'LGBTQ Movies', 'Unknown'], dtype=object)"
      ]
     },
     "execution_count": 89,
     "metadata": {},
     "output_type": "execute_result"
    }
   ],
   "source": [
    "netflix_data_cleaned['main_genre'].unique()"
   ]
  },
  {
   "cell_type": "code",
   "execution_count": 96,
   "id": "9115e869",
   "metadata": {},
   "outputs": [],
   "source": [
    "# Match genre to holiday-specific high-performing genres\n",
    "netflix_data_cleaned['is_christmas_genre'] = netflix_data_cleaned.apply(\n",
    "    lambda row: 1 if row['is_christmas'] and row['main_genre'] in ['Action & Adventure', 'Children & Family Movies', 'Documentaries','TV Dramas',\"Kids' TV\"] else 0,\n",
    "    axis=1)\n",
    "\n",
    "netflix_data_cleaned['is_valentine_genre'] = netflix_data_cleaned.apply(\n",
    "    lambda row: 1 if row['is_valentine'] and row['main_genre'] in ['Comedies', 'Stand-Up Comedy', 'International TV Shows','Dramas'] else 0,\n",
    "    axis=1)\n",
    "\n",
    "netflix_data_cleaned['is_halloween_genre'] = netflix_data_cleaned.apply(\n",
    "    lambda row: 1 if row['is_halloween'] and row['main_genre'] in ['Crime TV Shows', 'Horror Movies', 'Stand-Up Comedy','Horror Movies',\"Kids' TV\"] else 0,\n",
    "    axis=1)\n",
    "\n",
    "netflix_data_cleaned['is_newyear_genre'] = netflix_data_cleaned.apply(\n",
    "    lambda row: 1 if row['is_new_year'] and row['main_genre'] in ['Dramas', 'Comedies', 'Children & Family Movies','Documentaries'] else 0,\n",
    "    axis=1)\n",
    "\n",
    "netflix_data_cleaned['is_independence_genre'] = netflix_data_cleaned.apply(\n",
    "    lambda row: 1 if row['is_independence_us'] and row['main_genre'] in ['Documentaries', \"Kids' TV\", 'Anime Series','Stand-Up Comedy'] else 0,\n",
    "    axis=1)\n"
   ]
  },
  {
   "cell_type": "code",
   "execution_count": 97,
   "id": "3f2485a1",
   "metadata": {},
   "outputs": [],
   "source": [
    "import pandas as pd\n",
    "\n",
    "# Your DataFrame\n",
    "# Let's assume it's called df\n",
    "\n",
    "# List of festive genre indicator columns\n",
    "festive_cols = [\n",
    "    'is_christmas_genre',\n",
    "    'is_valentine_genre',\n",
    "    'is_halloween_genre',\n",
    "    'is_newyear_genre',\n",
    "    'is_independence_genre'\n",
    "]\n",
    "\n",
    "# STEP 1: Create 'is_rare_genre' where none of the festive genres are marked\n",
    "netflix_data_cleaned['is_rare_genre'] = netflix_data_cleaned[festive_cols].sum(axis=1).apply(lambda x: 1 if x == 0 else 0)\n",
    "\n",
    "# STEP 2: (Optional) Explore rare genres\n",
    "# If you have a 'listed_in' or 'genres' column (assuming it's called 'listed_in')\n",
    "if 'listed_in' in netflix_data_cleaned.columns:\n",
    "    # Get unique genres for rare rows\n",
    "    rare_genres = netflix_data_cleaned[netflix_data_cleaned['is_rare_genre'] == 1]['listed_in'].value_counts()\n",
    "    \n",
    "\n",
    "# \n"
   ]
  },
  {
   "cell_type": "code",
   "execution_count": 102,
   "id": "244f3e6c",
   "metadata": {},
   "outputs": [
    {
     "data": {
      "text/plain": [
       "Index(['show_id', 'type', 'title', 'director', 'cast', 'country', 'date_added',\n",
       "       'release_year', 'rating', 'duration', 'listed_in', 'description',\n",
       "       'type_Movie', 'type_TV Show', 'rating_encoded', 'year_added',\n",
       "       'month_added', 'day_added', 'season', 'is_weekend', 'added_mmdd',\n",
       "       'is_valentine', 'is_halloween', 'is_new_year', 'is_independence_us',\n",
       "       'is_christmas', 'main_genre', 'duration_num', 'duration_type',\n",
       "       'is_christmas_genre', 'is_valentine_genre', 'is_halloween_genre',\n",
       "       'is_newyear_genre', 'is_independence_genre', 'is_rare_genre'],\n",
       "      dtype='object')"
      ]
     },
     "execution_count": 102,
     "metadata": {},
     "output_type": "execute_result"
    }
   ],
   "source": [
    "netflix_data_cleaned.columns"
   ]
  },
  {
   "cell_type": "markdown",
   "id": "6922d76a",
   "metadata": {},
   "source": [
    "## 🎯 Insight: Holiday-Sensitive Genre Mapping\n",
    "\n",
    "With the creation of columns like `is_christmas_genre`, `is_valentine_genre`, `is_halloween_genre`, etc., we now have a granular view of how well each title's genre aligns with  global holidays.\n",
    "\n",
    "### ✅ Actionable Insight\n",
    "These features allow the model to:\n",
    "- Identify **which titles are seasonally relevant**\n",
    "- Help Netflix schedule and promote the **right genre at the right time**\n",
    "\n",
    "### 💡 Example:\n",
    "If a user logs in around February, titles with `is_valentine_genre = 1` can be **surfaced prominently**, improving both **engagement and retention**.\n"
   ]
  },
  {
   "cell_type": "markdown",
   "id": "fe8ce5f5",
   "metadata": {},
   "source": [
    "AGE-RELATED FEATURES:"
   ]
  },
  {
   "cell_type": "markdown",
   "id": "eefe89c0",
   "metadata": {},
   "source": [
    " years_since_release Column"
   ]
  },
  {
   "cell_type": "code",
   "execution_count": 119,
   "id": "ff6c520c",
   "metadata": {},
   "outputs": [],
   "source": [
    "current_year = 2025  \n",
    "netflix_data_cleaned['years_since_release'] = current_year - netflix_data_cleaned['release_year']\n"
   ]
  },
  {
   "cell_type": "markdown",
   "id": "f889f91c",
   "metadata": {},
   "source": [
    "is_recent_release Flag (Release Year > 2019)"
   ]
  },
  {
   "cell_type": "code",
   "execution_count": 110,
   "id": "6038db0f",
   "metadata": {},
   "outputs": [],
   "source": [
    "netflix_data_cleaned['is_recent_release'] = netflix_data_cleaned['release_year'] > 2019\n"
   ]
  },
  {
   "cell_type": "code",
   "execution_count": 111,
   "id": "debc64e7",
   "metadata": {},
   "outputs": [],
   "source": [
    "def get_age_band(years_old):\n",
    "    if years_old <= 1:\n",
    "        return 'New'\n",
    "    elif years_old <= 3:\n",
    "        return 'Recent'\n",
    "    elif years_old <= 10:\n",
    "        return 'Moderate'\n",
    "    else:\n",
    "        return 'Classic'\n",
    "\n",
    "netflix_data_cleaned['release_age_band'] = netflix_data_cleaned['years_since_release'].apply(get_age_band)\n"
   ]
  },
  {
   "cell_type": "code",
   "execution_count": 112,
   "id": "67ceb64f",
   "metadata": {},
   "outputs": [],
   "source": [
    "netflix_data_cleaned['is_vintage_popular'] = (\n",
    "    (netflix_data_cleaned['years_since_release'] > 10) &\n",
    "    (netflix_data_cleaned['main_genre'].isin(['Dramas', 'Documentaries']))\n",
    ").astype(int)\n"
   ]
  },
  {
   "cell_type": "markdown",
   "id": "37ceaec5",
   "metadata": {},
   "source": [
    "## 🧠 Age-Based Features for Customer Retention\n",
    "\n",
    "### 1. `release_age_band`\n",
    "\n",
    "**Description**  \n",
    "This feature categorizes content into age groups:\n",
    "- `New` (≤1 year)\n",
    "- `Recent` (1–3 years)\n",
    "- `Moderate` (3–10 years)\n",
    "- `Classic` (>10 years)\n",
    "\n",
    "**📊 Why It Matters for Retention**  \n",
    "- Allows Netflix to tailor recommendations by age preference.  \n",
    "- For example, younger audiences may prefer `New` content, while some users revisit `Classic` titles for nostalgia.\n",
    "\n",
    "\n",
    "---\n",
    "\n",
    "### 2. `is_vintage_popular`\n",
    "\n",
    "**Description**  \n",
    "Flags content that is both:\n",
    "- Older than 10 years (`Classic`)\n",
    "- Belongs to genres like **Dramas** or **Documentaries**, which often perform well regardless of age.\n",
    "\n",
    "**📊 Why It Matters for Retention**  \n",
    "- Highlights **evergreen content** that holds long-term value.\n",
    "- Netflix can promote these during low-release months or use them to **refresh the home feed** without relying on new inventory.\n",
    "\n",
    "---\n",
    "\n",
    "### ✅ Actionable Takeaway\n",
    "These features help Netflix identify:\n",
    "- Which content to recommend to **retain subscribers** across different user segments.\n",
    "- When to **resurface older content** to boost engagement without producing new shows.\n"
   ]
  },
  {
   "cell_type": "code",
   "execution_count": 120,
   "id": "6317d9cd",
   "metadata": {},
   "outputs": [
    {
     "data": {
      "text/html": [
       "<div>\n",
       "<style scoped>\n",
       "    .dataframe tbody tr th:only-of-type {\n",
       "        vertical-align: middle;\n",
       "    }\n",
       "\n",
       "    .dataframe tbody tr th {\n",
       "        vertical-align: top;\n",
       "    }\n",
       "\n",
       "    .dataframe thead th {\n",
       "        text-align: right;\n",
       "    }\n",
       "</style>\n",
       "<table border=\"1\" class=\"dataframe\">\n",
       "  <thead>\n",
       "    <tr style=\"text-align: right;\">\n",
       "      <th></th>\n",
       "      <th>show_id</th>\n",
       "      <th>type</th>\n",
       "      <th>title</th>\n",
       "      <th>director</th>\n",
       "      <th>cast</th>\n",
       "      <th>country</th>\n",
       "      <th>date_added</th>\n",
       "      <th>release_year</th>\n",
       "      <th>rating</th>\n",
       "      <th>duration</th>\n",
       "      <th>...</th>\n",
       "      <th>is_christmas_genre</th>\n",
       "      <th>is_valentine_genre</th>\n",
       "      <th>is_halloween_genre</th>\n",
       "      <th>is_newyear_genre</th>\n",
       "      <th>is_independence_genre</th>\n",
       "      <th>is_rare_genre</th>\n",
       "      <th>years_since_release</th>\n",
       "      <th>release_age_band</th>\n",
       "      <th>is_vintage_popular</th>\n",
       "      <th>is_recent_release</th>\n",
       "    </tr>\n",
       "  </thead>\n",
       "  <tbody>\n",
       "    <tr>\n",
       "      <th>5957</th>\n",
       "      <td>s5958</td>\n",
       "      <td>Movie</td>\n",
       "      <td>To and From New York</td>\n",
       "      <td>Sorin Dan Mihalcescu</td>\n",
       "      <td>Barbara King, Shaana Diya, John Krisiukenas, Y...</td>\n",
       "      <td>United States</td>\n",
       "      <td>2008-01-01</td>\n",
       "      <td>2006.0</td>\n",
       "      <td>TV-MA</td>\n",
       "      <td>81 min</td>\n",
       "      <td>...</td>\n",
       "      <td>0</td>\n",
       "      <td>0</td>\n",
       "      <td>0</td>\n",
       "      <td>1</td>\n",
       "      <td>0</td>\n",
       "      <td>0</td>\n",
       "      <td>19.0</td>\n",
       "      <td>New</td>\n",
       "      <td>0</td>\n",
       "      <td>False</td>\n",
       "    </tr>\n",
       "    <tr>\n",
       "      <th>6611</th>\n",
       "      <td>s6612</td>\n",
       "      <td>TV Show</td>\n",
       "      <td>Dinner for Five</td>\n",
       "      <td>Unknown</td>\n",
       "      <td>Unknown</td>\n",
       "      <td>United States</td>\n",
       "      <td>2008-02-04</td>\n",
       "      <td>2007.0</td>\n",
       "      <td>TV-MA</td>\n",
       "      <td>1 Season</td>\n",
       "      <td>...</td>\n",
       "      <td>0</td>\n",
       "      <td>0</td>\n",
       "      <td>0</td>\n",
       "      <td>0</td>\n",
       "      <td>0</td>\n",
       "      <td>1</td>\n",
       "      <td>18.0</td>\n",
       "      <td>New</td>\n",
       "      <td>0</td>\n",
       "      <td>False</td>\n",
       "    </tr>\n",
       "    <tr>\n",
       "      <th>5956</th>\n",
       "      <td>s5957</td>\n",
       "      <td>Movie</td>\n",
       "      <td>Just Another Love Story</td>\n",
       "      <td>Ole Bornedal</td>\n",
       "      <td>Anders W. Berthelsen, Rebecka Hemse, Nikolaj L...</td>\n",
       "      <td>Denmark</td>\n",
       "      <td>2009-05-05</td>\n",
       "      <td>2007.0</td>\n",
       "      <td>TV-MA</td>\n",
       "      <td>104 min</td>\n",
       "      <td>...</td>\n",
       "      <td>0</td>\n",
       "      <td>0</td>\n",
       "      <td>0</td>\n",
       "      <td>0</td>\n",
       "      <td>0</td>\n",
       "      <td>1</td>\n",
       "      <td>18.0</td>\n",
       "      <td>New</td>\n",
       "      <td>0</td>\n",
       "      <td>False</td>\n",
       "    </tr>\n",
       "    <tr>\n",
       "      <th>5955</th>\n",
       "      <td>s5956</td>\n",
       "      <td>Movie</td>\n",
       "      <td>Splatter</td>\n",
       "      <td>Joe Dante</td>\n",
       "      <td>Corey Feldman, Tony Todd, Tara Leigh, Erin Way...</td>\n",
       "      <td>United States</td>\n",
       "      <td>2009-11-18</td>\n",
       "      <td>2009.0</td>\n",
       "      <td>TV-MA</td>\n",
       "      <td>29 min</td>\n",
       "      <td>...</td>\n",
       "      <td>0</td>\n",
       "      <td>0</td>\n",
       "      <td>0</td>\n",
       "      <td>0</td>\n",
       "      <td>0</td>\n",
       "      <td>1</td>\n",
       "      <td>16.0</td>\n",
       "      <td>New</td>\n",
       "      <td>0</td>\n",
       "      <td>False</td>\n",
       "    </tr>\n",
       "    <tr>\n",
       "      <th>5954</th>\n",
       "      <td>s5955</td>\n",
       "      <td>Movie</td>\n",
       "      <td>Even the Rain</td>\n",
       "      <td>Icíar Bollaín</td>\n",
       "      <td>Luis Tosar, Gael García Bernal, Juan Carlos Ad...</td>\n",
       "      <td>Spain, Mexico, France</td>\n",
       "      <td>2011-05-17</td>\n",
       "      <td>2010.0</td>\n",
       "      <td>TV-MA</td>\n",
       "      <td>103 min</td>\n",
       "      <td>...</td>\n",
       "      <td>0</td>\n",
       "      <td>0</td>\n",
       "      <td>0</td>\n",
       "      <td>0</td>\n",
       "      <td>0</td>\n",
       "      <td>1</td>\n",
       "      <td>15.0</td>\n",
       "      <td>New</td>\n",
       "      <td>0</td>\n",
       "      <td>False</td>\n",
       "    </tr>\n",
       "  </tbody>\n",
       "</table>\n",
       "<p>5 rows × 39 columns</p>\n",
       "</div>"
      ],
      "text/plain": [
       "     show_id     type                    title              director  \\\n",
       "5957   s5958    Movie     To and From New York  Sorin Dan Mihalcescu   \n",
       "6611   s6612  TV Show          Dinner for Five               Unknown   \n",
       "5956   s5957    Movie  Just Another Love Story          Ole Bornedal   \n",
       "5955   s5956    Movie                 Splatter             Joe Dante   \n",
       "5954   s5955    Movie            Even the Rain         Icíar Bollaín   \n",
       "\n",
       "                                                   cast  \\\n",
       "5957  Barbara King, Shaana Diya, John Krisiukenas, Y...   \n",
       "6611                                            Unknown   \n",
       "5956  Anders W. Berthelsen, Rebecka Hemse, Nikolaj L...   \n",
       "5955  Corey Feldman, Tony Todd, Tara Leigh, Erin Way...   \n",
       "5954  Luis Tosar, Gael García Bernal, Juan Carlos Ad...   \n",
       "\n",
       "                    country date_added  release_year rating  duration  ...  \\\n",
       "5957          United States 2008-01-01        2006.0  TV-MA    81 min  ...   \n",
       "6611          United States 2008-02-04        2007.0  TV-MA  1 Season  ...   \n",
       "5956                Denmark 2009-05-05        2007.0  TV-MA   104 min  ...   \n",
       "5955          United States 2009-11-18        2009.0  TV-MA    29 min  ...   \n",
       "5954  Spain, Mexico, France 2011-05-17        2010.0  TV-MA   103 min  ...   \n",
       "\n",
       "     is_christmas_genre is_valentine_genre  is_halloween_genre  \\\n",
       "5957                  0                  0                   0   \n",
       "6611                  0                  0                   0   \n",
       "5956                  0                  0                   0   \n",
       "5955                  0                  0                   0   \n",
       "5954                  0                  0                   0   \n",
       "\n",
       "      is_newyear_genre  is_independence_genre  is_rare_genre  \\\n",
       "5957                 1                      0              0   \n",
       "6611                 0                      0              1   \n",
       "5956                 0                      0              1   \n",
       "5955                 0                      0              1   \n",
       "5954                 0                      0              1   \n",
       "\n",
       "      years_since_release release_age_band is_vintage_popular  \\\n",
       "5957                 19.0              New                  0   \n",
       "6611                 18.0              New                  0   \n",
       "5956                 18.0              New                  0   \n",
       "5955                 16.0              New                  0   \n",
       "5954                 15.0              New                  0   \n",
       "\n",
       "      is_recent_release  \n",
       "5957              False  \n",
       "6611              False  \n",
       "5956              False  \n",
       "5955              False  \n",
       "5954              False  \n",
       "\n",
       "[5 rows x 39 columns]"
      ]
     },
     "execution_count": 120,
     "metadata": {},
     "output_type": "execute_result"
    }
   ],
   "source": [
    "netflix_data_cleaned.head()"
   ]
  },
  {
   "cell_type": "markdown",
   "id": "eff79458",
   "metadata": {},
   "source": [
    "TEXT-BASED FEATURES"
   ]
  },
  {
   "cell_type": "code",
   "execution_count": 49,
   "id": "119aeaf7",
   "metadata": {},
   "outputs": [],
   "source": [
    "netflix_data_cleaned['title_word_count'] = netflix_data_cleaned['title'].fillna('').str.split().apply(len)\n",
    "netflix_data_cleaned['description_len'] = netflix_data_cleaned['description'].fillna('').str.len()\n"
   ]
  },
  {
   "cell_type": "markdown",
   "id": "242544ae",
   "metadata": {},
   "source": [
    "CATEGORICAL COMPLEXITY FEATURES"
   ]
  },
  {
   "cell_type": "markdown",
   "id": "310b133a",
   "metadata": {},
   "source": [
    " Multi-country production indicator\n"
   ]
  },
  {
   "cell_type": "code",
   "execution_count": 50,
   "id": "778bb7d2",
   "metadata": {},
   "outputs": [],
   "source": [
    "netflix_data_cleaned['is_multi_country'] = netflix_data_cleaned['country'].fillna('').str.contains(',')"
   ]
  },
  {
   "cell_type": "markdown",
   "id": "76fc0b70",
   "metadata": {},
   "source": [
    "Number of genres\n"
   ]
  },
  {
   "cell_type": "code",
   "execution_count": 51,
   "id": "5349bbe6",
   "metadata": {},
   "outputs": [],
   "source": [
    "netflix_data_cleaned['num_genres'] = netflix_data_cleaned['listed_in'].fillna('').apply(\n",
    "    lambda x: len(x.split(',')) if x else 0\n",
    ")"
   ]
  },
  {
   "cell_type": "markdown",
   "id": "62dd3f4e",
   "metadata": {},
   "source": [
    "## 🎭 Genre Complexity Features\n",
    "\n",
    "### 1. `num_genres`\n",
    "\n",
    "**Description**  \n",
    "Counts how many genres a show or movie is tagged with.\n",
    "\n",
    "**📊 Why It Matters for Retention**  \n",
    "- Titles with more genres may appeal to a **broader audience**, increasing watch probability.\n",
    "- Single-genre titles are often more **focused and niche** — great for targeted recommendations.\n",
    "- Helps understand how **content diversity** correlates with engagement and retention.\n",
    "\n",
    "---\n",
    "\n",
    "\n",
    "### ✅ Actionable Takeaway\n",
    "These features allow Netflix to:\n",
    "- Tailor recommendations to users who prefer **simple or mixed-genre content**\n",
    "- Identify which **genre combinations lead to higher engagement**\n",
    "- Decide how to **tag and present content** to increase appeal and rewatch value\n"
   ]
  },
  {
   "cell_type": "markdown",
   "id": "24f2cd99",
   "metadata": {},
   "source": [
    "DAYS-TO-NETFLIX FEATURE"
   ]
  },
  {
   "cell_type": "code",
   "execution_count": 52,
   "id": "48150c06",
   "metadata": {},
   "outputs": [],
   "source": [
    "netflix_data_cleaned['days_to_netflix'] = (netflix_data_cleaned['date_added'].dt.year - netflix_data_cleaned['release_year']) * 365\n"
   ]
  },
  {
   "cell_type": "markdown",
   "id": "89f30f97",
   "metadata": {},
   "source": [
    "FINAL DATASET SUMMARY"
   ]
  },
  {
   "cell_type": "code",
   "execution_count": 127,
   "id": "84a9934a",
   "metadata": {},
   "outputs": [
    {
     "data": {
      "text/html": [
       "<div>\n",
       "<style scoped>\n",
       "    .dataframe tbody tr th:only-of-type {\n",
       "        vertical-align: middle;\n",
       "    }\n",
       "\n",
       "    .dataframe tbody tr th {\n",
       "        vertical-align: top;\n",
       "    }\n",
       "\n",
       "    .dataframe thead th {\n",
       "        text-align: right;\n",
       "    }\n",
       "</style>\n",
       "<table border=\"1\" class=\"dataframe\">\n",
       "  <thead>\n",
       "    <tr style=\"text-align: right;\">\n",
       "      <th></th>\n",
       "      <th>show_id</th>\n",
       "      <th>type</th>\n",
       "      <th>title</th>\n",
       "      <th>director</th>\n",
       "      <th>cast</th>\n",
       "      <th>country</th>\n",
       "      <th>date_added</th>\n",
       "      <th>release_year</th>\n",
       "      <th>rating</th>\n",
       "      <th>duration</th>\n",
       "      <th>...</th>\n",
       "      <th>is_christmas_genre</th>\n",
       "      <th>is_valentine_genre</th>\n",
       "      <th>is_halloween_genre</th>\n",
       "      <th>is_newyear_genre</th>\n",
       "      <th>is_independence_genre</th>\n",
       "      <th>is_rare_genre</th>\n",
       "      <th>years_since_release</th>\n",
       "      <th>release_age_band</th>\n",
       "      <th>is_vintage_popular</th>\n",
       "      <th>is_recent_release</th>\n",
       "    </tr>\n",
       "  </thead>\n",
       "  <tbody>\n",
       "    <tr>\n",
       "      <th>5957</th>\n",
       "      <td>s5958</td>\n",
       "      <td>Movie</td>\n",
       "      <td>To and From New York</td>\n",
       "      <td>Sorin Dan Mihalcescu</td>\n",
       "      <td>Barbara King, Shaana Diya, John Krisiukenas, Y...</td>\n",
       "      <td>United States</td>\n",
       "      <td>2008-01-01</td>\n",
       "      <td>2006.0</td>\n",
       "      <td>TV-MA</td>\n",
       "      <td>81 min</td>\n",
       "      <td>...</td>\n",
       "      <td>0</td>\n",
       "      <td>0</td>\n",
       "      <td>0</td>\n",
       "      <td>1</td>\n",
       "      <td>0</td>\n",
       "      <td>0</td>\n",
       "      <td>19.0</td>\n",
       "      <td>New</td>\n",
       "      <td>0</td>\n",
       "      <td>False</td>\n",
       "    </tr>\n",
       "    <tr>\n",
       "      <th>6611</th>\n",
       "      <td>s6612</td>\n",
       "      <td>TV Show</td>\n",
       "      <td>Dinner for Five</td>\n",
       "      <td>Unknown</td>\n",
       "      <td>Unknown</td>\n",
       "      <td>United States</td>\n",
       "      <td>2008-02-04</td>\n",
       "      <td>2007.0</td>\n",
       "      <td>TV-MA</td>\n",
       "      <td>1 Season</td>\n",
       "      <td>...</td>\n",
       "      <td>0</td>\n",
       "      <td>0</td>\n",
       "      <td>0</td>\n",
       "      <td>0</td>\n",
       "      <td>0</td>\n",
       "      <td>1</td>\n",
       "      <td>18.0</td>\n",
       "      <td>New</td>\n",
       "      <td>0</td>\n",
       "      <td>False</td>\n",
       "    </tr>\n",
       "    <tr>\n",
       "      <th>5956</th>\n",
       "      <td>s5957</td>\n",
       "      <td>Movie</td>\n",
       "      <td>Just Another Love Story</td>\n",
       "      <td>Ole Bornedal</td>\n",
       "      <td>Anders W. Berthelsen, Rebecka Hemse, Nikolaj L...</td>\n",
       "      <td>Denmark</td>\n",
       "      <td>2009-05-05</td>\n",
       "      <td>2007.0</td>\n",
       "      <td>TV-MA</td>\n",
       "      <td>104 min</td>\n",
       "      <td>...</td>\n",
       "      <td>0</td>\n",
       "      <td>0</td>\n",
       "      <td>0</td>\n",
       "      <td>0</td>\n",
       "      <td>0</td>\n",
       "      <td>1</td>\n",
       "      <td>18.0</td>\n",
       "      <td>New</td>\n",
       "      <td>0</td>\n",
       "      <td>False</td>\n",
       "    </tr>\n",
       "    <tr>\n",
       "      <th>5955</th>\n",
       "      <td>s5956</td>\n",
       "      <td>Movie</td>\n",
       "      <td>Splatter</td>\n",
       "      <td>Joe Dante</td>\n",
       "      <td>Corey Feldman, Tony Todd, Tara Leigh, Erin Way...</td>\n",
       "      <td>United States</td>\n",
       "      <td>2009-11-18</td>\n",
       "      <td>2009.0</td>\n",
       "      <td>TV-MA</td>\n",
       "      <td>29 min</td>\n",
       "      <td>...</td>\n",
       "      <td>0</td>\n",
       "      <td>0</td>\n",
       "      <td>0</td>\n",
       "      <td>0</td>\n",
       "      <td>0</td>\n",
       "      <td>1</td>\n",
       "      <td>16.0</td>\n",
       "      <td>New</td>\n",
       "      <td>0</td>\n",
       "      <td>False</td>\n",
       "    </tr>\n",
       "    <tr>\n",
       "      <th>5954</th>\n",
       "      <td>s5955</td>\n",
       "      <td>Movie</td>\n",
       "      <td>Even the Rain</td>\n",
       "      <td>Icíar Bollaín</td>\n",
       "      <td>Luis Tosar, Gael García Bernal, Juan Carlos Ad...</td>\n",
       "      <td>Spain, Mexico, France</td>\n",
       "      <td>2011-05-17</td>\n",
       "      <td>2010.0</td>\n",
       "      <td>TV-MA</td>\n",
       "      <td>103 min</td>\n",
       "      <td>...</td>\n",
       "      <td>0</td>\n",
       "      <td>0</td>\n",
       "      <td>0</td>\n",
       "      <td>0</td>\n",
       "      <td>0</td>\n",
       "      <td>1</td>\n",
       "      <td>15.0</td>\n",
       "      <td>New</td>\n",
       "      <td>0</td>\n",
       "      <td>False</td>\n",
       "    </tr>\n",
       "  </tbody>\n",
       "</table>\n",
       "<p>5 rows × 39 columns</p>\n",
       "</div>"
      ],
      "text/plain": [
       "     show_id     type                    title              director  \\\n",
       "5957   s5958    Movie     To and From New York  Sorin Dan Mihalcescu   \n",
       "6611   s6612  TV Show          Dinner for Five               Unknown   \n",
       "5956   s5957    Movie  Just Another Love Story          Ole Bornedal   \n",
       "5955   s5956    Movie                 Splatter             Joe Dante   \n",
       "5954   s5955    Movie            Even the Rain         Icíar Bollaín   \n",
       "\n",
       "                                                   cast  \\\n",
       "5957  Barbara King, Shaana Diya, John Krisiukenas, Y...   \n",
       "6611                                            Unknown   \n",
       "5956  Anders W. Berthelsen, Rebecka Hemse, Nikolaj L...   \n",
       "5955  Corey Feldman, Tony Todd, Tara Leigh, Erin Way...   \n",
       "5954  Luis Tosar, Gael García Bernal, Juan Carlos Ad...   \n",
       "\n",
       "                    country date_added  release_year rating  duration  ...  \\\n",
       "5957          United States 2008-01-01        2006.0  TV-MA    81 min  ...   \n",
       "6611          United States 2008-02-04        2007.0  TV-MA  1 Season  ...   \n",
       "5956                Denmark 2009-05-05        2007.0  TV-MA   104 min  ...   \n",
       "5955          United States 2009-11-18        2009.0  TV-MA    29 min  ...   \n",
       "5954  Spain, Mexico, France 2011-05-17        2010.0  TV-MA   103 min  ...   \n",
       "\n",
       "     is_christmas_genre is_valentine_genre  is_halloween_genre  \\\n",
       "5957                  0                  0                   0   \n",
       "6611                  0                  0                   0   \n",
       "5956                  0                  0                   0   \n",
       "5955                  0                  0                   0   \n",
       "5954                  0                  0                   0   \n",
       "\n",
       "      is_newyear_genre  is_independence_genre  is_rare_genre  \\\n",
       "5957                 1                      0              0   \n",
       "6611                 0                      0              1   \n",
       "5956                 0                      0              1   \n",
       "5955                 0                      0              1   \n",
       "5954                 0                      0              1   \n",
       "\n",
       "      years_since_release release_age_band is_vintage_popular  \\\n",
       "5957                 19.0              New                  0   \n",
       "6611                 18.0              New                  0   \n",
       "5956                 18.0              New                  0   \n",
       "5955                 16.0              New                  0   \n",
       "5954                 15.0              New                  0   \n",
       "\n",
       "      is_recent_release  \n",
       "5957              False  \n",
       "6611              False  \n",
       "5956              False  \n",
       "5955              False  \n",
       "5954              False  \n",
       "\n",
       "[5 rows x 39 columns]"
      ]
     },
     "execution_count": 127,
     "metadata": {},
     "output_type": "execute_result"
    }
   ],
   "source": [
    "netflix_data_cleaned.head()"
   ]
  },
  {
   "cell_type": "code",
   "execution_count": 125,
   "id": "52b44a81",
   "metadata": {},
   "outputs": [
    {
     "data": {
      "text/plain": [
       "Index(['show_id', 'type', 'title', 'director', 'cast', 'country', 'date_added',\n",
       "       'release_year', 'rating', 'duration', 'listed_in', 'description',\n",
       "       'type_Movie', 'type_TV Show', 'rating_encoded', 'year_added',\n",
       "       'month_added', 'day_added', 'season', 'is_weekend', 'added_mmdd',\n",
       "       'is_valentine', 'is_halloween', 'is_new_year', 'is_independence_us',\n",
       "       'is_christmas', 'main_genre', 'duration_num', 'duration_type',\n",
       "       'is_christmas_genre', 'is_valentine_genre', 'is_halloween_genre',\n",
       "       'is_newyear_genre', 'is_independence_genre', 'is_rare_genre',\n",
       "       'years_since_release', 'release_age_band', 'is_vintage_popular',\n",
       "       'is_recent_release'],\n",
       "      dtype='object')"
      ]
     },
     "execution_count": 125,
     "metadata": {},
     "output_type": "execute_result"
    }
   ],
   "source": [
    "netflix_data_cleaned.columns"
   ]
  },
  {
   "cell_type": "code",
   "execution_count": 126,
   "id": "18c6d197",
   "metadata": {},
   "outputs": [
    {
     "name": "stdout",
     "output_type": "stream",
     "text": [
      "Final dataset dimensions: (8703, 39)\n",
      "Total features created: 27 new features\n"
     ]
    }
   ],
   "source": [
    "print(f\"Final dataset dimensions: {netflix_data_cleaned.shape}\")\n",
    "print(f\"Total features created: {netflix_data_cleaned.shape[1] - netflix_data.shape[1]} new features\")\n"
   ]
  },
  {
   "cell_type": "markdown",
   "id": "1a45bbe3",
   "metadata": {},
   "source": [
    "THIS IS THE FINAL CLEANED DATASET"
   ]
  },
  {
   "cell_type": "markdown",
   "id": "d8e48e14",
   "metadata": {},
   "source": [
    "INSIGHTS SUMMARY:\n",
    "1. Netflix heavily favors movies over TV shows in their catalog\n",
    "2. While US content dominates the platform, significant representation from India, UK, and Canada reveals Netflix's strategic global content\n",
    "3. TV-MA and TV-14 ratings dominate the rating distribution\n",
    "4. High missing values in director and cast columns suggest systematic data collection gaps\n",
    "5. Multi-country productions and varying genre counts suggest Netflix invests in sophisticated, cross-cultural content.\n",
    "6. The distribution of the release_year data is left-skewed, indicating most content is recent.\n",
    "7. USA leads in both movies and TV Show content type, whereas India is second in line for  movies and UK is second in line for TV Shows.\n",
    "8. International movies leads followed by Dramas and Comedies in the Genre category.\n",
    "9. Creating features like year_added,month_added,years_since_release,is_multicountry are helpful in modelling"
   ]
  }
 ],
 "metadata": {
  "kernelspec": {
   "display_name": "ml_env",
   "language": "python",
   "name": "python3"
  },
  "language_info": {
   "codemirror_mode": {
    "name": "ipython",
    "version": 3
   },
   "file_extension": ".py",
   "mimetype": "text/x-python",
   "name": "python",
   "nbconvert_exporter": "python",
   "pygments_lexer": "ipython3",
   "version": "3.10.11"
  }
 },
 "nbformat": 4,
 "nbformat_minor": 5
}
